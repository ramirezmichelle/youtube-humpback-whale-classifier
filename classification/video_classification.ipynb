{
 "cells": [
  {
   "cell_type": "markdown",
   "id": "ff009453",
   "metadata": {},
   "source": [
    "# Classifying YouTube Videos for Humpback Whale Encounters - Keras CNN-RNN"
   ]
  },
  {
   "cell_type": "code",
   "execution_count": 1,
   "id": "cf256923",
   "metadata": {},
   "outputs": [],
   "source": [
    "%load_ext autoreload\n",
    "%autoreload 2"
   ]
  },
  {
   "cell_type": "code",
   "execution_count": 2,
   "id": "df017c3e",
   "metadata": {},
   "outputs": [],
   "source": [
    "from tensorflow_docs.vis import embed\n",
    "from tensorflow import keras\n",
    "from imutils import paths\n",
    "\n",
    "import matplotlib.pyplot as plt\n",
    "import tensorflow as tf\n",
    "import pandas as pd\n",
    "import numpy as np\n",
    "import imageio\n",
    "import pickle\n",
    "import glob\n",
    "import cv2\n",
    "import os\n",
    "import time\n",
    "\n",
    "from sklearn import metrics\n",
    "from sklearn.model_selection import KFold, StratifiedKFold\n",
    "import seaborn as sns"
   ]
  },
  {
   "cell_type": "code",
   "execution_count": 4,
   "id": "645f5e7f",
   "metadata": {},
   "outputs": [],
   "source": [
    "#ngc workspace path (where we keep our data)\n",
    "workspace_path = '/mount/data'"
   ]
  },
  {
   "cell_type": "markdown",
   "id": "9f1fa34a",
   "metadata": {},
   "source": [
    "# Start WandB Session"
   ]
  },
  {
   "cell_type": "code",
   "execution_count": 13,
   "id": "482129c0",
   "metadata": {},
   "outputs": [
    {
     "name": "stderr",
     "output_type": "stream",
     "text": [
      "\u001b[34m\u001b[1mwandb\u001b[0m: Logging into wandb.ai. (Learn how to deploy a W&B server locally: https://wandb.me/wandb-server)\n",
      "\u001b[34m\u001b[1mwandb\u001b[0m: You can find your API key in your browser here: https://wandb.ai/authorize\n",
      "\u001b[34m\u001b[1mwandb\u001b[0m: Paste an API key from your profile and hit enter, or press ctrl+c to quit:"
     ]
    },
    {
     "name": "stdin",
     "output_type": "stream",
     "text": [
      "  ········································\n"
     ]
    },
    {
     "name": "stderr",
     "output_type": "stream",
     "text": [
      "\u001b[34m\u001b[1mwandb\u001b[0m: Appending key for api.wandb.ai to your netrc file: /root/.netrc\n",
      "\u001b[34m\u001b[1mwandb\u001b[0m: Currently logged in as: \u001b[33mmicheller\u001b[0m (\u001b[33mepg\u001b[0m). Use \u001b[1m`wandb login --relogin`\u001b[0m to force relogin\n"
     ]
    },
    {
     "data": {
      "text/html": [
       "Tracking run with wandb version 0.12.21"
      ],
      "text/plain": [
       "<IPython.core.display.HTML object>"
      ]
     },
     "metadata": {},
     "output_type": "display_data"
    },
    {
     "data": {
      "text/html": [
       "Run data is saved locally in <code>/workspace/youtube-humpback-whale-classifier/classification/wandb/run-20220711_201029-1siirfxt</code>"
      ],
      "text/plain": [
       "<IPython.core.display.HTML object>"
      ]
     },
     "metadata": {},
     "output_type": "display_data"
    },
    {
     "data": {
      "text/html": [
       "Syncing run <strong><a href=\"https://wandb.ai/epg/whale-classification-inception/runs/1siirfxt\" target=\"_blank\">flowing-sunset-2</a></strong> to <a href=\"https://wandb.ai/epg/whale-classification-inception\" target=\"_blank\">Weights & Biases</a> (<a href=\"https://wandb.me/run\" target=\"_blank\">docs</a>)<br/>"
      ],
      "text/plain": [
       "<IPython.core.display.HTML object>"
      ]
     },
     "metadata": {},
     "output_type": "display_data"
    },
    {
     "data": {
      "text/html": [
       "<button onClick=\"this.nextSibling.style.display='block';this.style.display='none';\">Display W&B run</button><iframe src=\"https://wandb.ai/epg/whale-classification-inception/runs/1siirfxt?jupyter=true\" style=\"border:none;width:100%;height:420px;display:none;\"></iframe>"
      ],
      "text/plain": [
       "<wandb.sdk.wandb_run.Run at 0x7f834d138160>"
      ]
     },
     "execution_count": 13,
     "metadata": {},
     "output_type": "execute_result"
    }
   ],
   "source": [
    "import wandb\n",
    "\n",
    "#start wandb session for metric logging\n",
    "wandb.login() \n",
    "\n",
    "wandb.init(project=\"whale-classification-inception\")"
   ]
  },
  {
   "cell_type": "markdown",
   "id": "de87ef08",
   "metadata": {},
   "source": [
    "# Set GPU Context"
   ]
  },
  {
   "cell_type": "code",
   "execution_count": 14,
   "id": "86c9b5cc",
   "metadata": {},
   "outputs": [
    {
     "name": "stdout",
     "output_type": "stream",
     "text": [
      "Num GPUs available:  2\n"
     ]
    }
   ],
   "source": [
    "print(\"Num GPUs available: \", len(tf.config.list_physical_devices('GPU'))) #1 if we select GPU mode in Colab Notebook, 0 if running on local machine"
   ]
  },
  {
   "cell_type": "code",
   "execution_count": 15,
   "id": "f64558bb",
   "metadata": {},
   "outputs": [
    {
     "name": "stdout",
     "output_type": "stream",
     "text": [
      "/device:GPU:0\n",
      "/device:GPU:1\n"
     ]
    },
    {
     "name": "stderr",
     "output_type": "stream",
     "text": [
      "2022-07-11 20:11:20.880017: I tensorflow/core/platform/cpu_feature_guard.cc:152] This TensorFlow binary is optimized with oneAPI Deep Neural Network Library (oneDNN) to use the following CPU instructions in performance-critical operations:  SSE3 SSE4.1 SSE4.2 AVX\n",
      "To enable them in other operations, rebuild TensorFlow with the appropriate compiler flags.\n",
      "2022-07-11 20:11:46.167770: I tensorflow/core/common_runtime/gpu/gpu_device.cc:1525] Created device /job:localhost/replica:0/task:0/device:GPU:0 with 14649 MB memory:  -> device: 0, name: Tesla V100-SXM2-16GB-N, pci bus id: 0000:06:00.0, compute capability: 7.0\n",
      "2022-07-11 20:11:46.425047: I tensorflow/core/common_runtime/gpu/gpu_device.cc:1525] Created device /job:localhost/replica:0/task:0/device:GPU:1 with 14649 MB memory:  -> device: 1, name: Tesla V100-SXM2-16GB-N, pci bus id: 0000:0b:00.0, compute capability: 7.0\n"
     ]
    }
   ],
   "source": [
    "# gpus = tf.config.list_physical_devices('GPU')\n",
    "gpus = tf.config.list_logical_devices('GPU')\n",
    "\n",
    "for gpu in gpus:\n",
    "    print(gpu.name)"
   ]
  },
  {
   "cell_type": "markdown",
   "id": "4b215ebb",
   "metadata": {},
   "source": [
    "# Inception V3 (CNN-RNN) "
   ]
  },
  {
   "cell_type": "markdown",
   "id": "112a6a37",
   "metadata": {},
   "source": [
    "## Hyperparameters"
   ]
  },
  {
   "cell_type": "code",
   "execution_count": 6,
   "id": "11317a40",
   "metadata": {},
   "outputs": [],
   "source": [
    "IMG_SIZE = 224\n",
    "BATCH_SIZE = 64\n",
    "EPOCHS = 10\n",
    "\n",
    "MAX_NUM_FRAMES = 461\n",
    "NUM_FEATURES = 2048"
   ]
  },
  {
   "cell_type": "markdown",
   "id": "3dae4d62",
   "metadata": {},
   "source": [
    "461 frames of size 224 x 224 with RGB color channels"
   ]
  },
  {
   "cell_type": "markdown",
   "id": "ecacc3b9",
   "metadata": {},
   "source": [
    "# Load Frames + Extract Features with CNN"
   ]
  },
  {
   "cell_type": "code",
   "execution_count": 7,
   "id": "d853e983",
   "metadata": {},
   "outputs": [],
   "source": [
    "from feature_extraction import load_frames, prepare_all_videos\n",
    "from cnn import CNN"
   ]
  },
  {
   "cell_type": "code",
   "execution_count": 8,
   "id": "4b498519",
   "metadata": {},
   "outputs": [
    {
     "data": {
      "text/plain": [
       "<keras.engine.functional.Functional at 0x7fd548e907c0>"
      ]
     },
     "execution_count": 8,
     "metadata": {},
     "output_type": "execute_result"
    }
   ],
   "source": [
    "ConvNet = CNN(IMG_SIZE)\n",
    "feature_extractor = ConvNet.InceptionV3()\n",
    "feature_extractor"
   ]
  },
  {
   "cell_type": "code",
   "execution_count": 9,
   "id": "bc3ce730",
   "metadata": {},
   "outputs": [],
   "source": [
    "#load dataset in\n",
    "data = pd.read_csv(workspace_path + '/downloaded_videos.csv')\n",
    "y = data.pop('relevant')\n",
    "X = data"
   ]
  },
  {
   "cell_type": "code",
   "execution_count": 24,
   "id": "5d3b388a",
   "metadata": {},
   "outputs": [
    {
     "name": "stdout",
     "output_type": "stream",
     "text": [
      "Time to extract frames with single GPU: 369.6837012767792s\n"
     ]
    }
   ],
   "source": [
    "#begin keeping track of time to extract frames\n",
    "start = time.time()\n",
    "\n",
    "#use single GPU to extract frames\n",
    "with tf.device('/device:GPU:0'):\n",
    "    (frame_features, frame_masks), labels = prepare_all_videos(X[0:5], y[0:5], MAX_NUM_FRAMES, NUM_FEATURES, feature_extractor)\n",
    "    \n",
    "stop = time.time()\n",
    "\n",
    "print(f\"Time to extract frames with single GPU: {stop - start}s\")"
   ]
  },
  {
   "cell_type": "code",
   "execution_count": 25,
   "id": "5e3c68e6",
   "metadata": {},
   "outputs": [
    {
     "name": "stdout",
     "output_type": "stream",
     "text": [
      "Time to extract frames without GPU: 354.47875595092773s\n"
     ]
    }
   ],
   "source": [
    "start = time.time()\n",
    "\n",
    "#extract frames without gpu\n",
    "(frame_features, frame_masks), labels = prepare_all_videos(X[0:5], y[0:5], MAX_NUM_FRAMES, NUM_FEATURES, feature_extractor)\n",
    "    \n",
    "stop = time.time()\n",
    "print(f\"Time to extract frames without GPU: {stop - start}s\")"
   ]
  },
  {
   "cell_type": "code",
   "execution_count": 10,
   "id": "ffc20230",
   "metadata": {},
   "outputs": [
    {
     "name": "stdout",
     "output_type": "stream",
     "text": [
      "video_0000.mp4\n"
     ]
    },
    {
     "name": "stderr",
     "output_type": "stream",
     "text": [
      "2022-07-09 03:24:34.155966: I tensorflow/stream_executor/cuda/cuda_dnn.cc:379] Loaded cuDNN version 8400\n"
     ]
    },
    {
     "name": "stdout",
     "output_type": "stream",
     "text": [
      "video_0134.mp4\n",
      "video_0248.mp4\n",
      "video_0357.mp4\n",
      "Time to extract frames with single GPU: 46774.75740671158s\n"
     ]
    }
   ],
   "source": [
    "#begin keeping track of time to extract ALL frames using a single GPU\n",
    "start = time.time()\n",
    "\n",
    "with tf.device('/device:GPU:0'):\n",
    "    (frame_features, frame_masks), labels = prepare_all_videos(X, y, MAX_NUM_FRAMES, NUM_FEATURES, feature_extractor)\n",
    "    \n",
    "stop = time.time()\n",
    "\n",
    "print(f\"Time to extract frames with single GPU: {stop - start}s\")"
   ]
  },
  {
   "cell_type": "code",
   "execution_count": 14,
   "id": "cf7d1e75",
   "metadata": {},
   "outputs": [
    {
     "data": {
      "text/plain": [
       "12.992988168530994"
      ]
     },
     "execution_count": 14,
     "metadata": {},
     "output_type": "execute_result"
    }
   ],
   "source": [
    "#took 12 hours to extract features from frames with the GPU context set above\n",
    "(stop-start)/60/60"
   ]
  },
  {
   "cell_type": "code",
   "execution_count": 16,
   "id": "dacbf7d3",
   "metadata": {},
   "outputs": [
    {
     "name": "stdout",
     "output_type": "stream",
     "text": [
      "Frame features shape:  (364, 461, 2048)\n",
      "Frame masks shape:  (364, 461)\n",
      "Number of Labels:  364\n"
     ]
    }
   ],
   "source": [
    "print('Frame features shape: ', frame_features.shape)\n",
    "print('Frame masks shape: ', frame_masks.shape)\n",
    "print('Number of Labels: ', len(labels))"
   ]
  },
  {
   "cell_type": "markdown",
   "id": "1e874b27",
   "metadata": {},
   "source": [
    "# Training RNN Sequence Model"
   ]
  },
  {
   "cell_type": "code",
   "execution_count": 48,
   "id": "9069f30f",
   "metadata": {},
   "outputs": [],
   "source": [
    "from rnn import RNN"
   ]
  },
  {
   "cell_type": "code",
   "execution_count": 49,
   "id": "be0fe09f",
   "metadata": {},
   "outputs": [],
   "source": [
    "rnn_model = RNN()"
   ]
  },
  {
   "cell_type": "code",
   "execution_count": 50,
   "id": "d8051569",
   "metadata": {},
   "outputs": [
    {
     "name": "stdout",
     "output_type": "stream",
     "text": [
      "Fold 0 \n",
      "\n",
      "3/3 [==============================] - 0s 29ms/step - loss: 0.6032 - accuracy: 0.7123\n",
      "Fold 1 \n",
      "\n",
      "3/3 [==============================] - 0s 28ms/step - loss: 0.6413 - accuracy: 0.7397\n",
      "Fold 2 \n",
      "\n",
      "3/3 [==============================] - 0s 28ms/step - loss: 0.5668 - accuracy: 0.7534\n",
      "Fold 3 \n",
      "\n",
      "3/3 [==============================] - 0s 29ms/step - loss: 0.5481 - accuracy: 0.7534\n",
      "Fold 4 \n",
      "\n",
      "3/3 [==============================] - 0s 28ms/step - loss: 0.5037 - accuracy: 0.8194\n"
     ]
    }
   ],
   "source": [
    "#training RNN with 5 fold cross validation\n",
    "\n",
    "skfold = StratifiedKFold(n_splits = 5, shuffle=True, random_state=42)\n",
    "fold = 0\n",
    "\n",
    "test_acc_per_fold       = dict()\n",
    "test_loss_per_fold      = dict()\n",
    "fold_train_test_indices = dict() #{'fold_model_name': [fold_train_index_list, fold_test_index_list]}\n",
    "\n",
    "for train_index, test_index in skfold.split(X, y):\n",
    "    \n",
    "    print(f'Fold {fold} \\n')\n",
    "    \n",
    "    #index data accordingly\n",
    "    train_features, train_masks, train_labels = frame_features[train_index], frame_masks[train_index], np.array(labels)[train_index]\n",
    "    test_features, test_masks, test_labels = frame_features[test_index], frame_masks[test_index], np.array(labels)[test_index]\n",
    "    \n",
    "    #reshape label arrays as horizontal arrays\n",
    "    train_labels = np.reshape(train_labels, (train_labels.shape[0], 1))\n",
    "    test_labels = np.reshape(test_labels, (test_labels.shape[0], 1))\n",
    "    \n",
    "    #create and compile model\n",
    "    rnn_model.build_model(MAX_NUM_FRAMES, NUM_FEATURES)\n",
    "    rnn_model.compile_model(loss=\"sparse_categorical_crossentropy\", optimizer=\"adam\", metrics=\"accuracy\")\n",
    "    \n",
    "    #train and evaluate the model\n",
    "    rnn_model.fit(train_features, train_masks, train_labels, f'rnn_model_{fold}')\n",
    "    loss, accuracy = rnn_model.evaluate(test_features, test_masks, test_labels)\n",
    "    \n",
    "    #store the test accuracies and loss for each fold model\n",
    "    test_acc_per_fold[fold]       = accuracy\n",
    "    test_loss_per_fold[fold]      = loss\n",
    "    fold_train_test_indices[fold] = [train_index, test_index]\n",
    "    \n",
    "    fold += 1\n",
    "    "
   ]
  },
  {
   "cell_type": "markdown",
   "id": "edbe9c14",
   "metadata": {},
   "source": [
    "# Configuring Feature Extraction with Batches of Frames"
   ]
  },
  {
   "cell_type": "code",
   "execution_count": 20,
   "id": "6b3e7307",
   "metadata": {},
   "outputs": [],
   "source": [
    "def load_frames(video_title, max_frames):\n",
    "    '''read all frames in for 1 video from workspace 'frames' directory'''\n",
    "\n",
    "    #get number associated with clip to retrieve respective frames\n",
    "    clip_number = video_title.split('_')[1].split('.')[0]\n",
    "\n",
    "    #create list to store each frame\n",
    "    frames = []\n",
    "\n",
    "    for i in range(max_frames):\n",
    "\n",
    "        #read in .jpg file as array for video clip \n",
    "        img = cv2.imread(workspace_path + f'/frames/clip_{clip_number}_frame_{i}.jpg')\n",
    "        frames.append(img)\n",
    "\n",
    "    #put list of frames in numpy format\n",
    "    frames = np.array(frames)\n",
    "\n",
    "    #return frames with an extra batch dimension\n",
    "    return frames[None, ...]"
   ]
  },
  {
   "cell_type": "code",
   "execution_count": 17,
   "id": "44d503fa",
   "metadata": {},
   "outputs": [],
   "source": [
    "#load dataset in\n",
    "data = pd.read_csv(workspace_path + '/downloaded_videos.csv')\n",
    "y = data.pop('relevant')\n",
    "X = data"
   ]
  },
  {
   "cell_type": "code",
   "execution_count": 30,
   "id": "1c97fad4",
   "metadata": {},
   "outputs": [
    {
     "name": "stdout",
     "output_type": "stream",
     "text": [
      "Batch of frames for video 0000 shape:  (461, 224, 224, 3)\n"
     ]
    },
    {
     "data": {
      "text/plain": [
       "(1, 224, 224, 3)"
      ]
     },
     "execution_count": 30,
     "metadata": {},
     "output_type": "execute_result"
    }
   ],
   "source": [
    "print('Batch of frames for video 0000 shape: ', batch.shape)\n",
    "j=0\n",
    "\n",
    "#this is just one image\n",
    "batch[None, j, :].shape"
   ]
  },
  {
   "cell_type": "code",
   "execution_count": 25,
   "id": "9b0f8969",
   "metadata": {},
   "outputs": [
    {
     "name": "stdout",
     "output_type": "stream",
     "text": [
      "0 video_0000.mp4\n",
      "(1, 461, 224, 224, 3)\n",
      "i: 0 batch.shape:  (461, 224, 224, 3)\n",
      "j: 0\n",
      "j: 1\n",
      "j: 2\n",
      "j: 3\n",
      "j: 4\n",
      "j: 5\n",
      "j: 6\n",
      "j: 7\n",
      "j: 8\n",
      "j: 9\n",
      "j: 10\n",
      "j: 11\n",
      "j: 12\n",
      "j: 13\n",
      "j: 14\n",
      "j: 15\n",
      "j: 16\n",
      "j: 17\n",
      "j: 18\n",
      "j: 19\n",
      "j: 20\n",
      "j: 21\n",
      "j: 22\n",
      "j: 23\n",
      "j: 24\n",
      "j: 25\n",
      "j: 26\n",
      "j: 27\n",
      "j: 28\n",
      "j: 29\n",
      "j: 30\n",
      "j: 31\n",
      "j: 32\n",
      "j: 33\n",
      "j: 34\n",
      "j: 35\n",
      "j: 36\n",
      "j: 37\n",
      "j: 38\n",
      "j: 39\n",
      "j: 40\n",
      "j: 41\n",
      "j: 42\n",
      "j: 43\n",
      "j: 44\n",
      "j: 45\n",
      "j: 46\n",
      "j: 47\n",
      "j: 48\n",
      "j: 49\n",
      "j: 50\n",
      "j: 51\n",
      "j: 52\n",
      "j: 53\n",
      "j: 54\n",
      "j: 55\n",
      "j: 56\n",
      "j: 57\n",
      "j: 58\n",
      "j: 59\n",
      "j: 60\n",
      "j: 61\n",
      "j: 62\n",
      "j: 63\n",
      "j: 64\n",
      "j: 65\n",
      "j: 66\n",
      "j: 67\n",
      "j: 68\n",
      "j: 69\n",
      "j: 70\n",
      "j: 71\n",
      "j: 72\n",
      "j: 73\n",
      "j: 74\n",
      "j: 75\n",
      "j: 76\n",
      "j: 77\n",
      "j: 78\n",
      "j: 79\n",
      "j: 80\n",
      "j: 81\n",
      "j: 82\n",
      "j: 83\n",
      "j: 84\n",
      "j: 85\n",
      "j: 86\n",
      "j: 87\n",
      "j: 88\n",
      "j: 89\n",
      "j: 90\n",
      "j: 91\n",
      "j: 92\n",
      "j: 93\n",
      "j: 94\n",
      "j: 95\n",
      "j: 96\n",
      "j: 97\n",
      "j: 98\n",
      "j: 99\n",
      "j: 100\n",
      "j: 101\n",
      "j: 102\n",
      "j: 103\n",
      "j: 104\n",
      "j: 105\n",
      "j: 106\n",
      "j: 107\n",
      "j: 108\n",
      "j: 109\n",
      "j: 110\n",
      "j: 111\n",
      "j: 112\n",
      "j: 113\n",
      "j: 114\n",
      "j: 115\n",
      "j: 116\n",
      "j: 117\n",
      "j: 118\n",
      "j: 119\n",
      "j: 120\n",
      "j: 121\n",
      "j: 122\n",
      "j: 123\n",
      "j: 124\n",
      "j: 125\n",
      "j: 126\n",
      "j: 127\n",
      "j: 128\n",
      "j: 129\n",
      "j: 130\n",
      "j: 131\n",
      "j: 132\n",
      "j: 133\n",
      "j: 134\n",
      "j: 135\n",
      "j: 136\n",
      "j: 137\n",
      "j: 138\n",
      "j: 139\n",
      "j: 140\n",
      "j: 141\n",
      "j: 142\n",
      "j: 143\n",
      "j: 144\n",
      "j: 145\n",
      "j: 146\n",
      "j: 147\n",
      "j: 148\n",
      "j: 149\n",
      "j: 150\n",
      "j: 151\n",
      "j: 152\n",
      "j: 153\n",
      "j: 154\n",
      "j: 155\n",
      "j: 156\n",
      "j: 157\n",
      "j: 158\n",
      "j: 159\n",
      "j: 160\n",
      "j: 161\n",
      "j: 162\n",
      "j: 163\n",
      "j: 164\n",
      "j: 165\n",
      "j: 166\n",
      "j: 167\n",
      "j: 168\n",
      "j: 169\n",
      "j: 170\n",
      "j: 171\n",
      "j: 172\n",
      "j: 173\n",
      "j: 174\n",
      "j: 175\n",
      "j: 176\n",
      "j: 177\n",
      "j: 178\n",
      "j: 179\n",
      "j: 180\n",
      "j: 181\n",
      "j: 182\n",
      "j: 183\n",
      "j: 184\n",
      "j: 185\n",
      "j: 186\n",
      "j: 187\n",
      "j: 188\n",
      "j: 189\n",
      "j: 190\n",
      "j: 191\n",
      "j: 192\n",
      "j: 193\n",
      "j: 194\n",
      "j: 195\n",
      "j: 196\n",
      "j: 197\n",
      "j: 198\n",
      "j: 199\n",
      "j: 200\n",
      "j: 201\n",
      "j: 202\n",
      "j: 203\n",
      "j: 204\n",
      "j: 205\n",
      "j: 206\n",
      "j: 207\n",
      "j: 208\n",
      "j: 209\n",
      "j: 210\n",
      "j: 211\n",
      "j: 212\n",
      "j: 213\n",
      "j: 214\n",
      "j: 215\n",
      "j: 216\n",
      "j: 217\n",
      "j: 218\n",
      "j: 219\n",
      "j: 220\n",
      "j: 221\n",
      "j: 222\n",
      "j: 223\n",
      "j: 224\n",
      "j: 225\n",
      "j: 226\n",
      "j: 227\n",
      "j: 228\n",
      "j: 229\n",
      "j: 230\n",
      "j: 231\n",
      "j: 232\n",
      "j: 233\n",
      "j: 234\n",
      "j: 235\n",
      "j: 236\n",
      "j: 237\n",
      "j: 238\n",
      "j: 239\n",
      "j: 240\n",
      "j: 241\n",
      "j: 242\n",
      "j: 243\n",
      "j: 244\n",
      "j: 245\n",
      "j: 246\n",
      "j: 247\n",
      "j: 248\n",
      "j: 249\n",
      "j: 250\n",
      "j: 251\n",
      "j: 252\n",
      "j: 253\n",
      "j: 254\n",
      "j: 255\n",
      "j: 256\n",
      "j: 257\n",
      "j: 258\n",
      "j: 259\n",
      "j: 260\n",
      "j: 261\n",
      "j: 262\n",
      "j: 263\n",
      "j: 264\n",
      "j: 265\n",
      "j: 266\n",
      "j: 267\n",
      "j: 268\n",
      "j: 269\n",
      "j: 270\n",
      "j: 271\n",
      "j: 272\n",
      "j: 273\n",
      "j: 274\n",
      "j: 275\n",
      "j: 276\n",
      "j: 277\n",
      "j: 278\n",
      "j: 279\n",
      "j: 280\n",
      "j: 281\n",
      "j: 282\n",
      "j: 283\n",
      "j: 284\n",
      "j: 285\n",
      "j: 286\n",
      "j: 287\n",
      "j: 288\n",
      "j: 289\n",
      "j: 290\n",
      "j: 291\n",
      "j: 292\n",
      "j: 293\n",
      "j: 294\n",
      "j: 295\n",
      "j: 296\n",
      "j: 297\n",
      "j: 298\n",
      "j: 299\n",
      "j: 300\n",
      "j: 301\n",
      "j: 302\n",
      "j: 303\n",
      "j: 304\n",
      "j: 305\n",
      "j: 306\n",
      "j: 307\n",
      "j: 308\n",
      "j: 309\n",
      "j: 310\n",
      "j: 311\n",
      "j: 312\n",
      "j: 313\n",
      "j: 314\n",
      "j: 315\n",
      "j: 316\n",
      "j: 317\n",
      "j: 318\n",
      "j: 319\n",
      "j: 320\n",
      "j: 321\n",
      "j: 322\n",
      "j: 323\n",
      "j: 324\n",
      "j: 325\n",
      "j: 326\n",
      "j: 327\n",
      "j: 328\n",
      "j: 329\n",
      "j: 330\n",
      "j: 331\n",
      "j: 332\n",
      "j: 333\n",
      "j: 334\n",
      "j: 335\n",
      "j: 336\n",
      "j: 337\n",
      "j: 338\n",
      "j: 339\n",
      "j: 340\n",
      "j: 341\n",
      "j: 342\n",
      "j: 343\n",
      "j: 344\n",
      "j: 345\n",
      "j: 346\n",
      "j: 347\n",
      "j: 348\n",
      "j: 349\n",
      "j: 350\n",
      "j: 351\n",
      "j: 352\n",
      "j: 353\n",
      "j: 354\n",
      "j: 355\n",
      "j: 356\n",
      "j: 357\n",
      "j: 358\n",
      "j: 359\n",
      "j: 360\n",
      "j: 361\n",
      "j: 362\n",
      "j: 363\n",
      "j: 364\n",
      "j: 365\n",
      "j: 366\n",
      "j: 367\n",
      "j: 368\n",
      "j: 369\n",
      "j: 370\n",
      "j: 371\n",
      "j: 372\n",
      "j: 373\n",
      "j: 374\n",
      "j: 375\n",
      "j: 376\n",
      "j: 377\n",
      "j: 378\n",
      "j: 379\n",
      "j: 380\n",
      "j: 381\n",
      "j: 382\n",
      "j: 383\n",
      "j: 384\n",
      "j: 385\n",
      "j: 386\n",
      "j: 387\n",
      "j: 388\n",
      "j: 389\n",
      "j: 390\n",
      "j: 391\n",
      "j: 392\n",
      "j: 393\n",
      "j: 394\n",
      "j: 395\n",
      "j: 396\n",
      "j: 397\n",
      "j: 398\n",
      "j: 399\n",
      "j: 400\n",
      "j: 401\n",
      "j: 402\n",
      "j: 403\n",
      "j: 404\n",
      "j: 405\n",
      "j: 406\n",
      "j: 407\n",
      "j: 408\n",
      "j: 409\n",
      "j: 410\n",
      "j: 411\n",
      "j: 412\n",
      "j: 413\n",
      "j: 414\n",
      "j: 415\n",
      "j: 416\n",
      "j: 417\n",
      "j: 418\n",
      "j: 419\n",
      "j: 420\n",
      "j: 421\n",
      "j: 422\n",
      "j: 423\n",
      "j: 424\n",
      "j: 425\n",
      "j: 426\n",
      "j: 427\n",
      "j: 428\n",
      "j: 429\n",
      "j: 430\n",
      "j: 431\n",
      "j: 432\n",
      "j: 433\n",
      "j: 434\n",
      "j: 435\n",
      "j: 436\n",
      "j: 437\n",
      "j: 438\n",
      "j: 439\n",
      "j: 440\n",
      "j: 441\n",
      "j: 442\n",
      "j: 443\n",
      "j: 444\n",
      "j: 445\n",
      "j: 446\n",
      "j: 447\n",
      "j: 448\n",
      "j: 449\n",
      "j: 450\n",
      "j: 451\n",
      "j: 452\n",
      "j: 453\n",
      "j: 454\n",
      "j: 455\n",
      "j: 456\n",
      "j: 457\n",
      "j: 458\n",
      "j: 459\n",
      "j: 460\n"
     ]
    }
   ],
   "source": [
    "max_frames = 461\n",
    "num_features = 2048\n",
    "\n",
    "num_samples = len(X)\n",
    "videos = list(X['renamed_title'].values)\n",
    "\n",
    "# `frame masks` and `frame_features are what we will feed to our sequence model\n",
    "frame_masks = np.zeros(shape=(num_samples, max_frames), dtype=\"bool\")\n",
    "frame_features = np.zeros(shape=(num_samples, max_frames, num_features) , dtype=\"float32\")\n",
    "\n",
    "for index, video_title in enumerate(videos[0:1]):\n",
    "    print(index, video_title)\n",
    "\n",
    "\n",
    "    #Gather all the video's frames and add a batch dimension (frames has shape frames[None, ...])\n",
    "    frames = load_frames(video_title, max_frames)\n",
    "    print(frames.shape)\n",
    "\n",
    "    #initialize placeholders to store the masks and features of the current video\n",
    "    temp_frame_mask = np.zeros(shape=(1, max_frames), dtype=\"bool\")  \n",
    "    temp_frame_features = np.zeros(shape=(1, max_frames, num_features), dtype=\"float32\")\n",
    "\n",
    "    for i, batch in enumerate(frames):\n",
    "        print('i:', i, 'batch.shape: ', batch.shape)\n",
    "        #extract features from the frames of the current video\n",
    "        for j in range(max_frames):\n",
    "            print(f'j: {j}')\n",
    "            curr_frame = batch[None, j, :]\n",
    "            temp_frame_features[i, j, :] = feature_extractor.predict(curr_frame) #get frame features from current (single) frame\n",
    "\n",
    "#         #create mask for current video \n",
    "#         #1 = not masked, 0 = masked\n",
    "#         temp_frame_mask[i, :max_frames] = 1 \n",
    "\n",
    "#     frame_features[index, ] = temp_frame_features.squeeze()\n",
    "#     frame_masks[index, ] = temp_frame_mask.squeeze()\n",
    "\n"
   ]
  }
 ],
 "metadata": {
  "kernelspec": {
   "display_name": "Python 3 (ipykernel)",
   "language": "python",
   "name": "python3"
  },
  "language_info": {
   "codemirror_mode": {
    "name": "ipython",
    "version": 3
   },
   "file_extension": ".py",
   "mimetype": "text/x-python",
   "name": "python",
   "nbconvert_exporter": "python",
   "pygments_lexer": "ipython3",
   "version": "3.8.10"
  }
 },
 "nbformat": 4,
 "nbformat_minor": 5
}
