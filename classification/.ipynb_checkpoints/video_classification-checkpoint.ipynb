{
 "cells": [
  {
   "cell_type": "markdown",
   "id": "47cdf5b4",
   "metadata": {},
   "source": [
    "# Classifying YouTube Videos for Humpback Whale Encounters - Keras CNN-RNN"
   ]
  },
  {
   "cell_type": "code",
   "execution_count": 1,
   "id": "75709106",
   "metadata": {},
   "outputs": [],
   "source": [
    "%load_ext autoreload\n",
    "%autoreload 2"
   ]
  },
  {
   "cell_type": "code",
   "execution_count": 21,
   "id": "59217588",
   "metadata": {},
   "outputs": [],
   "source": [
    "from tensorflow_docs.vis import embed\n",
    "from tensorflow import keras\n",
    "from imutils import paths\n",
    "\n",
    "import matplotlib.pyplot as plt\n",
    "import tensorflow as tf\n",
    "import pandas as pd\n",
    "import numpy as np\n",
    "import imageio\n",
    "import pickle\n",
    "import glob\n",
    "import cv2\n",
    "import os\n",
    "\n",
    "from sklearn import metrics\n",
    "from sklearn.model_selection import KFold, StratifiedKFold\n",
    "import seaborn as sns\n",
    "\n",
    "import wandb\n",
    "\n",
    "from data_preprocessing import get_video_frames, frame_capture"
   ]
  },
  {
   "cell_type": "code",
   "execution_count": null,
   "id": "c2d90a23",
   "metadata": {},
   "outputs": [],
   "source": [
    "#start wandb session for metric logging\n",
    "wandb.login() \n",
    "\n",
    "wandb.init(project=\"whale-classification-inception\")"
   ]
  },
  {
   "cell_type": "markdown",
   "id": "dee14eeb",
   "metadata": {},
   "source": [
    "# Inception V3 (CNN-RNN) "
   ]
  },
  {
   "cell_type": "markdown",
   "id": "3178d5ac",
   "metadata": {},
   "source": [
    "## Hyperparameters"
   ]
  },
  {
   "cell_type": "code",
   "execution_count": 3,
   "id": "8b6c1f2b",
   "metadata": {},
   "outputs": [],
   "source": [
    "IMG_SIZE = 224\n",
    "BATCH_SIZE = 64\n",
    "EPOCHS = 10\n",
    "\n",
    "MAX_NUM_FRAMES = 500\n",
    "NUM_FEATURES = 2048"
   ]
  },
  {
   "cell_type": "code",
   "execution_count": 19,
   "id": "a4bd7e40",
   "metadata": {},
   "outputs": [
    {
     "name": "stdout",
     "output_type": "stream",
     "text": [
      "num frames extracted: 361\n"
     ]
    }
   ],
   "source": [
    "frames = get_video_frames('video_clip_0000.mp4', resize=(IMG_SIZE, IMG_SIZE))"
   ]
  },
  {
   "cell_type": "code",
   "execution_count": 36,
   "id": "83b4ae76",
   "metadata": {
    "collapsed": true,
    "jupyter": {
     "outputs_hidden": true
    }
   },
   "outputs": [
    {
     "name": "stdout",
     "output_type": "stream",
     "text": [
      "473.0\n",
      "frame 361 not available\n",
      "frame 362 not available\n",
      "frame 363 not available\n",
      "frame 364 not available\n",
      "frame 365 not available\n",
      "frame 366 not available\n",
      "frame 367 not available\n",
      "frame 368 not available\n",
      "frame 369 not available\n",
      "frame 370 not available\n",
      "frame 371 not available\n",
      "frame 372 not available\n",
      "frame 373 not available\n",
      "frame 374 not available\n",
      "frame 375 not available\n",
      "frame 376 not available\n",
      "frame 377 not available\n",
      "frame 378 not available\n",
      "frame 379 not available\n",
      "frame 380 not available\n",
      "frame 381 not available\n",
      "frame 382 not available\n",
      "frame 383 not available\n",
      "frame 384 not available\n",
      "frame 385 not available\n",
      "frame 386 not available\n",
      "frame 387 not available\n",
      "frame 388 not available\n",
      "frame 389 not available\n",
      "frame 390 not available\n",
      "frame 391 not available\n",
      "frame 392 not available\n",
      "frame 393 not available\n",
      "frame 394 not available\n",
      "frame 395 not available\n",
      "frame 396 not available\n",
      "frame 397 not available\n",
      "frame 398 not available\n",
      "frame 399 not available\n",
      "frame 400 not available\n",
      "frame 401 not available\n",
      "frame 402 not available\n",
      "frame 403 not available\n",
      "frame 404 not available\n",
      "frame 405 not available\n",
      "frame 406 not available\n",
      "frame 407 not available\n",
      "frame 408 not available\n",
      "frame 409 not available\n",
      "frame 410 not available\n",
      "frame 411 not available\n",
      "frame 412 not available\n",
      "frame 413 not available\n",
      "frame 414 not available\n",
      "frame 415 not available\n",
      "frame 416 not available\n",
      "frame 417 not available\n",
      "frame 418 not available\n",
      "frame 419 not available\n",
      "frame 420 not available\n",
      "frame 421 not available\n",
      "frame 422 not available\n",
      "frame 423 not available\n",
      "frame 424 not available\n",
      "frame 425 not available\n",
      "frame 426 not available\n",
      "frame 427 not available\n",
      "frame 428 not available\n",
      "frame 429 not available\n",
      "frame 430 not available\n",
      "frame 431 not available\n",
      "frame 432 not available\n",
      "frame 433 not available\n",
      "frame 434 not available\n",
      "frame 435 not available\n",
      "frame 436 not available\n",
      "frame 437 not available\n",
      "frame 438 not available\n",
      "frame 439 not available\n",
      "frame 440 not available\n",
      "frame 441 not available\n",
      "frame 442 not available\n",
      "frame 443 not available\n",
      "frame 444 not available\n",
      "frame 445 not available\n",
      "frame 446 not available\n",
      "frame 447 not available\n",
      "frame 448 not available\n",
      "frame 449 not available\n",
      "frame 450 not available\n",
      "frame 451 not available\n",
      "frame 452 not available\n",
      "frame 453 not available\n",
      "frame 454 not available\n",
      "frame 455 not available\n",
      "frame 456 not available\n",
      "frame 457 not available\n",
      "frame 458 not available\n",
      "frame 459 not available\n",
      "frame 460 not available\n",
      "frame 461 not available\n",
      "frame 462 not available\n",
      "frame 463 not available\n",
      "frame 464 not available\n",
      "frame 465 not available\n",
      "frame 466 not available\n",
      "frame 467 not available\n",
      "frame 468 not available\n",
      "frame 469 not available\n",
      "frame 470 not available\n",
      "frame 471 not available\n",
      "frame 472 not available\n",
      "473\n"
     ]
    }
   ],
   "source": [
    "num_frames = frame_capture('/mount/data/video_clips/video_clip_0000.mp4')\n",
    "print(num_frames)"
   ]
  },
  {
   "cell_type": "markdown",
   "id": "c0345f0e",
   "metadata": {},
   "source": [
    "# Investigating Discrepancies in Amount of Frames Extracted"
   ]
  },
  {
   "cell_type": "code",
   "execution_count": 37,
   "id": "cf62d76f",
   "metadata": {},
   "outputs": [],
   "source": [
    "#remove frames\n",
    "import os\n",
    "import glob\n",
    "\n",
    "files = glob.glob('/workspace/youtube-humpback-whale-classifier/classification/frames/frame*.jpg')\n",
    "for f in files:\n",
    "    os.remove(f)"
   ]
  },
  {
   "cell_type": "code",
   "execution_count": 102,
   "id": "aad06794",
   "metadata": {},
   "outputs": [],
   "source": [
    "import os\n",
    "import subprocess\n",
    "\n",
    "def convert_mp4_to_avi(mp4_file, h264_codec=False):\n",
    "    mp4_file_path = '/mount/data/video_clips/' + mp4_file\n",
    "    \n",
    "    #convert mp4 to avi while keeping h264 codec\n",
    "    if h264_codec == True:\n",
    "        avi_file_path = '/mount/data/' + mp4_file.replace('.mp4', '_h264.avi')\n",
    "        subprocess.call(f\"ffmpeg -loglevel panic -i {mp4_file_path} -c:a copy -c:v h264 {avi_file_path} \", shell=True) \n",
    "    else:\n",
    "        #otherwise just copy audio and video as is (mpeg4)\n",
    "        avi_file_path = '/mount/data/' + mp4_file.replace('.mp4', '.avi')\n",
    "        print(avi_file_path)\n",
    "        subprocess.call(f\"ffmpeg -loglevel panic -i {mp4_file_path} -c:a copy -c:v copy {avi_file_path} \", shell=True) \n",
    "        \n",
    "    return True\n"
   ]
  },
  {
   "cell_type": "code",
   "execution_count": 106,
   "id": "47de51ae",
   "metadata": {},
   "outputs": [
    {
     "data": {
      "text/plain": [
       "1"
      ]
     },
     "execution_count": 106,
     "metadata": {},
     "output_type": "execute_result"
    }
   ],
   "source": [
    "subprocess.call(\"ffmpeg -loglevel panic -i /mount/data/video_clips/video_clip_0003.avi -c:a copy -c:v copy /mount/data/video_clip_0003.avi \", shell=True) "
   ]
  },
  {
   "cell_type": "code",
   "execution_count": 103,
   "id": "964d8faf",
   "metadata": {},
   "outputs": [
    {
     "name": "stdout",
     "output_type": "stream",
     "text": [
      "hi\n",
      "Expected number of frames (avi):  0.0\n",
      "0.0\n",
      "Actual number of frames (avi):    0\n"
     ]
    },
    {
     "name": "stderr",
     "output_type": "stream",
     "text": [
      "ffprobe version 4.2.7-0ubuntu0.1 Copyright (c) 2007-2022 the FFmpeg developers\n",
      "  built with gcc 9 (Ubuntu 9.4.0-1ubuntu1~20.04.1)\n",
      "  configuration: --prefix=/usr --extra-version=0ubuntu0.1 --toolchain=hardened --libdir=/usr/lib/x86_64-linux-gnu --incdir=/usr/include/x86_64-linux-gnu --arch=amd64 --enable-gpl --disable-stripping --enable-avresample --disable-filter=resample --enable-avisynth --enable-gnutls --enable-ladspa --enable-libaom --enable-libass --enable-libbluray --enable-libbs2b --enable-libcaca --enable-libcdio --enable-libcodec2 --enable-libflite --enable-libfontconfig --enable-libfreetype --enable-libfribidi --enable-libgme --enable-libgsm --enable-libjack --enable-libmp3lame --enable-libmysofa --enable-libopenjpeg --enable-libopenmpt --enable-libopus --enable-libpulse --enable-librsvg --enable-librubberband --enable-libshine --enable-libsnappy --enable-libsoxr --enable-libspeex --enable-libssh --enable-libtheora --enable-libtwolame --enable-libvidstab --enable-libvorbis --enable-libvpx --enable-libwavpack --enable-libwebp --enable-libx265 --enable-libxml2 --enable-libxvid --enable-libzmq --enable-libzvbi --enable-lv2 --enable-omx --enable-openal --enable-opencl --enable-opengl --enable-sdl2 --enable-libdc1394 --enable-libdrm --enable-libiec61883 --enable-nvenc --enable-chromaprint --enable-frei0r --enable-libx264 --enable-shared\n",
      "  libavutil      56. 31.100 / 56. 31.100\n",
      "  libavcodec     58. 54.100 / 58. 54.100\n",
      "  libavformat    58. 29.100 / 58. 29.100\n",
      "  libavdevice    58.  8.100 / 58.  8.100\n",
      "  libavfilter     7. 57.100 /  7. 57.100\n",
      "  libavresample   4.  0.  0 /  4.  0.  0\n",
      "  libswscale      5.  5.100 /  5.  5.100\n",
      "  libswresample   3.  5.100 /  3.  5.100\n",
      "  libpostproc    55.  5.100 / 55.  5.100\n",
      "/mount/data/video_clip_0003.avi: No such file or directory\n"
     ]
    },
    {
     "data": {
      "text/plain": [
       "1"
      ]
     },
     "execution_count": 103,
     "metadata": {},
     "output_type": "execute_result"
    }
   ],
   "source": [
    "#convert mp4 video to avi mpeg4\n",
    "mp4_video = 'video_clip_0003.mp4'\n",
    "convert_mp4_to_avi(mp4_video)\n",
    "\n",
    "#get frame count \n",
    "cap = cv2.VideoCapture('/mount/data/video_clip_0003.avi')\n",
    "print('Expected number of frames (avi): ', cap.get(7))\n",
    "\n",
    "#extract frames with opencv\n",
    "num_frames = frame_capture('/mount/data/video_clip_0003.avi')\n",
    "print('Actual number of frames (avi):   ', num_frames)\n",
    "\n",
    "#probe avi file for details (look at stream type)\n",
    "import subprocess\n",
    "cmd = \"ffprobe -i {video_file}\".format(video_file = '/mount/data/video_clip_0003.avi')\n",
    "subprocess.call(cmd, shell=True)"
   ]
  },
  {
   "cell_type": "code",
   "execution_count": 86,
   "id": "91082ab9",
   "metadata": {},
   "outputs": [
    {
     "data": {
      "text/plain": [
       "456.0"
      ]
     },
     "execution_count": 86,
     "metadata": {},
     "output_type": "execute_result"
    }
   ],
   "source": [
    "#get frame count - avi with h264 codec\n",
    "mp4_video = 'video_clip_0003.mp4'\n",
    "convert_mp4_to_avi(mp4_video, h264_codec = True) \n",
    "\n",
    "cap = cv2.VideoCapture('/mount/data/video_clip_0003_h264.avi')\n",
    "print('Expected number of frames (avi h264): ', cap.get(7))\n",
    "\n",
    "num_frames = frame_capture('/mount/data/video_clip_0003_h264.avi')\n",
    "print('Actual number of frames (avi h264):   ', num_frames)\n",
    "\n",
    "#probe avi with h264 codec file for details (look at stream type)\n",
    "import subprocess\n",
    "cmd = \"ffprobe -i {video_file}\".format(video_file = '/mount/data/video_clip_0003_h264.avi')\n",
    "subprocess.call(cmd, shell=True)"
   ]
  },
  {
   "cell_type": "code",
   "execution_count": null,
   "id": "4aeddd0f",
   "metadata": {},
   "outputs": [],
   "source": [
    "#get frame count - mp4\n",
    "cap = cv2.VideoCapture('/mount/data/video_clips/video_clip_0003.mp4')\n",
    "print('Expected number of frames (mp4): ', cap.get(7))\n",
    "\n",
    "num_frames = frame_capture('/mount/data/video_clips/video_clip_0003.mp4')\n",
    "print('Actual number of frames (mp4):   ', num_frames)\n",
    "\n",
    "#probe mp4 file for details (look at stream type)\n",
    "import subprocess\n",
    "cmd = \"ffprobe -i {video_file}\".format(video_file = '/mount/data/video_clips/video_clip_0003.mp4')\n",
    "subprocess.call(cmd, shell=True)"
   ]
  }
 ],
 "metadata": {
  "kernelspec": {
   "display_name": "Python 3 (ipykernel)",
   "language": "python",
   "name": "python3"
  },
  "language_info": {
   "codemirror_mode": {
    "name": "ipython",
    "version": 3
   },
   "file_extension": ".py",
   "mimetype": "text/x-python",
   "name": "python",
   "nbconvert_exporter": "python",
   "pygments_lexer": "ipython3",
   "version": "3.8.10"
  }
 },
 "nbformat": 4,
 "nbformat_minor": 5
}
