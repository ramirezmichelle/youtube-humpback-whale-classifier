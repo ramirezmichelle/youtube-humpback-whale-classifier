{
 "cells": [
  {
   "cell_type": "markdown",
   "id": "636f0238",
   "metadata": {},
   "source": [
    "# Investigating Discrepancies in Amount of Frames Extracted"
   ]
  },
  {
   "cell_type": "code",
   "execution_count": 2,
   "id": "93a3add9",
   "metadata": {},
   "outputs": [],
   "source": [
    "%load_ext autoreload\n",
    "%autoreload 2"
   ]
  },
  {
   "cell_type": "code",
   "execution_count": 1,
   "id": "2d782785",
   "metadata": {},
   "outputs": [],
   "source": [
    "import pandas as pd\n",
    "import numpy as np\n",
    "\n",
    "from data_preprocessing import get_video_frames"
   ]
  },
  {
   "cell_type": "code",
   "execution_count": 3,
   "id": "2a1fba60",
   "metadata": {},
   "outputs": [
    {
     "data": {
      "text/html": [
       "<div>\n",
       "<style scoped>\n",
       "    .dataframe tbody tr th:only-of-type {\n",
       "        vertical-align: middle;\n",
       "    }\n",
       "\n",
       "    .dataframe tbody tr th {\n",
       "        vertical-align: top;\n",
       "    }\n",
       "\n",
       "    .dataframe thead th {\n",
       "        text-align: right;\n",
       "    }\n",
       "</style>\n",
       "<table border=\"1\" class=\"dataframe\">\n",
       "  <thead>\n",
       "    <tr style=\"text-align: right;\">\n",
       "      <th></th>\n",
       "      <th>video_id</th>\n",
       "      <th>url</th>\n",
       "      <th>title</th>\n",
       "      <th>license</th>\n",
       "      <th>relevant</th>\n",
       "      <th>renamed_title</th>\n",
       "      <th>clip_start</th>\n",
       "      <th>clip_end</th>\n",
       "      <th>duration</th>\n",
       "      <th>frames_collected</th>\n",
       "      <th>frames_reported</th>\n",
       "      <th>frames_reported_decord</th>\n",
       "    </tr>\n",
       "  </thead>\n",
       "  <tbody>\n",
       "    <tr>\n",
       "      <th>0</th>\n",
       "      <td>67OIlq2oMt0</td>\n",
       "      <td>https://youtu.be/67OIlq2oMt0</td>\n",
       "      <td>Hawaiian Islands Humpback Whale National Marin...</td>\n",
       "      <td>creativeCommon</td>\n",
       "      <td>True</td>\n",
       "      <td>video_0000.mp4</td>\n",
       "      <td>10</td>\n",
       "      <td>25</td>\n",
       "      <td>266.0</td>\n",
       "      <td>361.0</td>\n",
       "      <td>473.0</td>\n",
       "      <td>473.0</td>\n",
       "    </tr>\n",
       "    <tr>\n",
       "      <th>1</th>\n",
       "      <td>EUcMuUBMYJc</td>\n",
       "      <td>https://youtu.be/EUcMuUBMYJc</td>\n",
       "      <td>Tagging expedition: revealing the delicate nur...</td>\n",
       "      <td>creativeCommon</td>\n",
       "      <td>True</td>\n",
       "      <td>video_0001.mp4</td>\n",
       "      <td>44</td>\n",
       "      <td>59</td>\n",
       "      <td>269.0</td>\n",
       "      <td>360.0</td>\n",
       "      <td>441.0</td>\n",
       "      <td>441.0</td>\n",
       "    </tr>\n",
       "    <tr>\n",
       "      <th>2</th>\n",
       "      <td>dpSuygz7ZmA</td>\n",
       "      <td>https://youtu.be/dpSuygz7ZmA</td>\n",
       "      <td>Your Earth Is Blue: Disentangling a Humpback W...</td>\n",
       "      <td>creativeCommon</td>\n",
       "      <td>True</td>\n",
       "      <td>video_0002.mp4</td>\n",
       "      <td>5</td>\n",
       "      <td>20</td>\n",
       "      <td>102.0</td>\n",
       "      <td>361.0</td>\n",
       "      <td>398.0</td>\n",
       "      <td>398.0</td>\n",
       "    </tr>\n",
       "    <tr>\n",
       "      <th>3</th>\n",
       "      <td>jfPzlFLEuKk</td>\n",
       "      <td>https://youtu.be/jfPzlFLEuKk</td>\n",
       "      <td>Humpback Whale || Description, Characteristics...</td>\n",
       "      <td>creativeCommon</td>\n",
       "      <td>True</td>\n",
       "      <td>video_0003.mp4</td>\n",
       "      <td>160</td>\n",
       "      <td>175</td>\n",
       "      <td>238.0</td>\n",
       "      <td>450.0</td>\n",
       "      <td>456.0</td>\n",
       "      <td>456.0</td>\n",
       "    </tr>\n",
       "    <tr>\n",
       "      <th>4</th>\n",
       "      <td>xGasapMoy4I</td>\n",
       "      <td>https://youtu.be/xGasapMoy4I</td>\n",
       "      <td>Your Earth Is Blue: Humpback Whales</td>\n",
       "      <td>creativeCommon</td>\n",
       "      <td>True</td>\n",
       "      <td>video_0004.mp4</td>\n",
       "      <td>0</td>\n",
       "      <td>15</td>\n",
       "      <td>83.0</td>\n",
       "      <td>451.0</td>\n",
       "      <td>451.0</td>\n",
       "      <td>451.0</td>\n",
       "    </tr>\n",
       "  </tbody>\n",
       "</table>\n",
       "</div>"
      ],
      "text/plain": [
       "      video_id                           url  \\\n",
       "0  67OIlq2oMt0  https://youtu.be/67OIlq2oMt0   \n",
       "1  EUcMuUBMYJc  https://youtu.be/EUcMuUBMYJc   \n",
       "2  dpSuygz7ZmA  https://youtu.be/dpSuygz7ZmA   \n",
       "3  jfPzlFLEuKk  https://youtu.be/jfPzlFLEuKk   \n",
       "4  xGasapMoy4I  https://youtu.be/xGasapMoy4I   \n",
       "\n",
       "                                               title         license  \\\n",
       "0  Hawaiian Islands Humpback Whale National Marin...  creativeCommon   \n",
       "1  Tagging expedition: revealing the delicate nur...  creativeCommon   \n",
       "2  Your Earth Is Blue: Disentangling a Humpback W...  creativeCommon   \n",
       "3  Humpback Whale || Description, Characteristics...  creativeCommon   \n",
       "4                Your Earth Is Blue: Humpback Whales  creativeCommon   \n",
       "\n",
       "   relevant   renamed_title  clip_start  clip_end  duration  frames_collected  \\\n",
       "0      True  video_0000.mp4          10        25     266.0             361.0   \n",
       "1      True  video_0001.mp4          44        59     269.0             360.0   \n",
       "2      True  video_0002.mp4           5        20     102.0             361.0   \n",
       "3      True  video_0003.mp4         160       175     238.0             450.0   \n",
       "4      True  video_0004.mp4           0        15      83.0             451.0   \n",
       "\n",
       "   frames_reported  frames_reported_decord  \n",
       "0            473.0                   473.0  \n",
       "1            441.0                   441.0  \n",
       "2            398.0                   398.0  \n",
       "3            456.0                   456.0  \n",
       "4            451.0                   451.0  "
      ]
     },
     "execution_count": 3,
     "metadata": {},
     "output_type": "execute_result"
    }
   ],
   "source": [
    "#load video clip info dataframe\n",
    "workspace_path = '/mount/data'\n",
    "downloads_df = pd.read_csv(workspace_path + '/downloaded_videos.csv')\n",
    "downloads_df.head()"
   ]
  },
  {
   "cell_type": "markdown",
   "id": "c1fafde8",
   "metadata": {},
   "source": [
    "# Clean up frame directory (testing)"
   ]
  },
  {
   "cell_type": "code",
   "execution_count": 63,
   "id": "752f5b0e",
   "metadata": {},
   "outputs": [],
   "source": [
    "#remove frames from test frame directory\n",
    "import os\n",
    "import glob\n",
    "\n",
    "# files = glob.glob('/workspace/youtube-humpback-whale-classifier/classification/frames/clip_0000_frame*.jpg')\n",
    "\n",
    "#DELETING FROM WORKSPACE\n",
    "files = glob.glob(workspace_path + '/frames/clip*.jpg')\n",
    "\n",
    "for f in files:\n",
    "    os.remove(f)"
   ]
  },
  {
   "cell_type": "markdown",
   "id": "644f8794",
   "metadata": {},
   "source": [
    "# Save frames as .jpeg files in workspace"
   ]
  },
  {
   "cell_type": "markdown",
   "id": "b97443a3",
   "metadata": {},
   "source": [
    "# Save frames as .jpg files in workspace with frame count limit \n",
    "\n",
    "`max_frames = 461`\n",
    "\n",
    "More about Decord: \n",
    "\n",
    "- https://towardsdatascience.com/lightning-fast-video-reading-in-python-c1438771c4e6 \n",
    "\n",
    "- https://github.com/dmlc/decord\n",
    "\n",
    "- https://medium.com/@haydenfaulkner/extracting-frames-fast-from-a-video-using-opencv-and-python-73b9b7dc9661"
   ]
  },
  {
   "cell_type": "code",
   "execution_count": 4,
   "id": "fdf3bdb7",
   "metadata": {},
   "outputs": [
    {
     "name": "stdout",
     "output_type": "stream",
     "text": [
      "363\n",
      "Done checking frames\n",
      "461 461\n"
     ]
    }
   ],
   "source": [
    "from decord import cpu, gpu\n",
    "\n",
    "for i, row in downloads_df.iterrows(): \n",
    "    clip = row['renamed_title'].replace('_', '_clip_')\n",
    "    actual, reported = get_video_frames(clip, max_frames=500, context=cpu(0))\n",
    "    downloads_df.at[i, ('frames_reported_decord')] = reported\n",
    "\n",
    "print(i)\n",
    "print('Done checking frames')\n",
    "print(actual, reported)"
   ]
  },
  {
   "cell_type": "code",
   "execution_count": 10,
   "id": "871b4f91",
   "metadata": {},
   "outputs": [],
   "source": [
    "clip = 'video_clip_0000.mp4'\n",
    "actual, reported = get_video_frames(clip, max_frames=500, context=cpu(0))"
   ]
  },
  {
   "cell_type": "markdown",
   "id": "3321ad77",
   "metadata": {},
   "source": [
    "# Save Changes to Downloads DF"
   ]
  },
  {
   "cell_type": "code",
   "execution_count": 8,
   "id": "c8ea9f21",
   "metadata": {},
   "outputs": [],
   "source": [
    "# update csv with frame counts (actual + reported)\n",
    "downloads_df.to_csv(workspace_path + '/downloaded_videos.csv', index=False)\n",
    "downloads_df.to_csv('/workspace/youtube-humpback-whale-classifier/data/downloaded_videos.csv', index=False)"
   ]
  }
 ],
 "metadata": {
  "kernelspec": {
   "display_name": "Python 3 (ipykernel)",
   "language": "python",
   "name": "python3"
  },
  "language_info": {
   "codemirror_mode": {
    "name": "ipython",
    "version": 3
   },
   "file_extension": ".py",
   "mimetype": "text/x-python",
   "name": "python",
   "nbconvert_exporter": "python",
   "pygments_lexer": "ipython3",
   "version": "3.8.10"
  }
 },
 "nbformat": 4,
 "nbformat_minor": 5
}
