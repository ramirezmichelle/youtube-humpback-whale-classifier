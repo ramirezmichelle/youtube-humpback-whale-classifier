{
 "cells": [
  {
   "cell_type": "markdown",
   "id": "bc45d17d",
   "metadata": {},
   "source": [
    "# Data Loading Pipelines"
   ]
  },
  {
   "cell_type": "markdown",
   "id": "5c481fcc",
   "metadata": {},
   "source": [
    "Goal: Implement efficient pipeline to load in .jpeg video frames as arrays"
   ]
  },
  {
   "cell_type": "code",
   "execution_count": 1,
   "id": "0685a6e5",
   "metadata": {},
   "outputs": [],
   "source": [
    "%load_ext autoreload\n",
    "%autoreload 2"
   ]
  },
  {
   "cell_type": "code",
   "execution_count": 2,
   "id": "56445399",
   "metadata": {},
   "outputs": [],
   "source": [
    "import pandas as pd"
   ]
  },
  {
   "cell_type": "markdown",
   "id": "259a13cd",
   "metadata": {},
   "source": [
    "# DALI"
   ]
  },
  {
   "cell_type": "markdown",
   "id": "790203c3",
   "metadata": {},
   "source": [
    "Resources:\n",
    "\n",
    "- https://docs.nvidia.com/deeplearning/dali/user-guide/docs/examples/sequence_processing/sequence_reader_simple_example.html"
   ]
  },
  {
   "cell_type": "code",
   "execution_count": 1,
   "id": "697856bf",
   "metadata": {},
   "outputs": [],
   "source": [
    "import os.path\n",
    "import numpy as np\n",
    "import shutil\n",
    "\n",
    "from nvidia.dali import pipeline_def\n",
    "import nvidia.dali.fn as fn\n",
    "import nvidia.dali.types as types\n",
    "\n",
    "%matplotlib inline\n",
    "from matplotlib import pyplot as plt\n",
    "import matplotlib.gridspec as gridspec"
   ]
  },
  {
   "cell_type": "code",
   "execution_count": 11,
   "id": "3d79fc4b",
   "metadata": {},
   "outputs": [],
   "source": [
    "data_dir = \"/mount/data/dali_frames\" #video frame directory\n",
    "\n",
    "\n",
    "num_batches      = 364  #how many batches of output to produce\n",
    "                       #when batch_size = 364, num_batches=1 since all our videos will be in a single batch\n",
    "batch_size = 2    #364 #all 364 of our videos in a single batch\n",
    "sequence_length  = 461  #each video has 461 frames"
   ]
  },
  {
   "cell_type": "code",
   "execution_count": 12,
   "id": "19029fcd",
   "metadata": {},
   "outputs": [],
   "source": [
    "@pipeline_def\n",
    "def frame_seq_pipe(path):\n",
    "    video = fn.readers.sequence(file_root=path, sequence_length=sequence_length)\n",
    "    return video\n",
    "\n",
    "def show_sequence(sequence, sequence_length):\n",
    "    columns = 5\n",
    "    rows = (sequence_length + 1) // (columns)\n",
    "    fig = plt.figure(figsize = (32, (16 // columns) * rows))\n",
    "    gs = gridspec.GridSpec(rows, columns)\n",
    "    for j in range(rows*columns):\n",
    "        plt.subplot(gs[j])\n",
    "        plt.axis(\"off\")\n",
    "        plt.imshow(sequence[j])"
   ]
  },
  {
   "cell_type": "code",
   "execution_count": 13,
   "id": "45beb81f",
   "metadata": {},
   "outputs": [],
   "source": [
    "pipe = frame_seq_pipe(path=data_dir, batch_size=batch_size, num_threads=1, device_id=0)\n",
    "pipe.build()"
   ]
  },
  {
   "cell_type": "code",
   "execution_count": 28,
   "id": "68baf433",
   "metadata": {
    "collapsed": true,
    "jupyter": {
     "outputs_hidden": true
    }
   },
   "outputs": [
    {
     "name": "stdout",
     "output_type": "stream",
     "text": [
      "(2, 461, 224, 224, 3)\n",
      "[[[[[  0   0   0]\n",
      "    [  0   0   0]\n",
      "    [  0   0   0]\n",
      "    ...\n",
      "    [184 207 221]\n",
      "    [184 207 221]\n",
      "    [184 207 221]]\n",
      "\n",
      "   [[  0   0   0]\n",
      "    [  0   0   0]\n",
      "    [  0   0   0]\n",
      "    ...\n",
      "    [184 207 221]\n",
      "    [184 207 221]\n",
      "    [184 207 221]]\n",
      "\n",
      "   [[  0   0   0]\n",
      "    [  0   0   0]\n",
      "    [  0   0   0]\n",
      "    ...\n",
      "    [184 207 221]\n",
      "    [184 207 221]\n",
      "    [184 207 221]]\n",
      "\n",
      "   ...\n",
      "\n",
      "   [[  0   0   0]\n",
      "    [  0   0   0]\n",
      "    [  0   0   0]\n",
      "    ...\n",
      "    [128 145 152]\n",
      "    [128 145 152]\n",
      "    [128 145 152]]\n",
      "\n",
      "   [[  0   0   0]\n",
      "    [  0   0   0]\n",
      "    [  0   0   0]\n",
      "    ...\n",
      "    [128 145 152]\n",
      "    [128 145 152]\n",
      "    [128 145 152]]\n",
      "\n",
      "   [[  0   0   0]\n",
      "    [  0   0   0]\n",
      "    [  0   0   0]\n",
      "    ...\n",
      "    [128 145 152]\n",
      "    [128 145 152]\n",
      "    [128 145 152]]]\n",
      "\n",
      "\n",
      "  [[[  0   0   0]\n",
      "    [  0   0   0]\n",
      "    [  0   0   0]\n",
      "    ...\n",
      "    [184 207 221]\n",
      "    [184 207 221]\n",
      "    [184 207 221]]\n",
      "\n",
      "   [[  0   0   0]\n",
      "    [  0   0   0]\n",
      "    [  0   0   0]\n",
      "    ...\n",
      "    [184 207 221]\n",
      "    [184 207 221]\n",
      "    [184 207 221]]\n",
      "\n",
      "   [[  0   0   0]\n",
      "    [  0   0   0]\n",
      "    [  0   0   0]\n",
      "    ...\n",
      "    [184 207 221]\n",
      "    [184 207 221]\n",
      "    [184 207 221]]\n",
      "\n",
      "   ...\n",
      "\n",
      "   [[  0   0   0]\n",
      "    [  0   0   0]\n",
      "    [  0   0   0]\n",
      "    ...\n",
      "    [128 145 152]\n",
      "    [128 145 152]\n",
      "    [128 145 152]]\n",
      "\n",
      "   [[  0   0   0]\n",
      "    [  0   0   0]\n",
      "    [  0   0   0]\n",
      "    ...\n",
      "    [128 145 152]\n",
      "    [128 145 152]\n",
      "    [128 145 152]]\n",
      "\n",
      "   [[  0   0   0]\n",
      "    [  0   0   0]\n",
      "    [  0   0   0]\n",
      "    ...\n",
      "    [128 145 152]\n",
      "    [128 145 152]\n",
      "    [128 145 152]]]\n",
      "\n",
      "\n",
      "  [[[  0   0   0]\n",
      "    [  0   0   0]\n",
      "    [  0   0   0]\n",
      "    ...\n",
      "    [183 206 220]\n",
      "    [183 206 220]\n",
      "    [184 207 221]]\n",
      "\n",
      "   [[  0   0   0]\n",
      "    [  0   0   0]\n",
      "    [  0   0   0]\n",
      "    ...\n",
      "    [183 206 220]\n",
      "    [183 206 220]\n",
      "    [184 207 221]]\n",
      "\n",
      "   [[  0   0   0]\n",
      "    [  0   0   0]\n",
      "    [  0   0   0]\n",
      "    ...\n",
      "    [183 206 220]\n",
      "    [183 206 220]\n",
      "    [184 207 221]]\n",
      "\n",
      "   ...\n",
      "\n",
      "   [[  0   0   0]\n",
      "    [  0   0   0]\n",
      "    [  0   0   0]\n",
      "    ...\n",
      "    [120 139 145]\n",
      "    [119 138 144]\n",
      "    [119 138 144]]\n",
      "\n",
      "   [[  0   0   0]\n",
      "    [  0   0   0]\n",
      "    [  0   0   0]\n",
      "    ...\n",
      "    [120 139 145]\n",
      "    [120 139 145]\n",
      "    [120 139 145]]\n",
      "\n",
      "   [[  0   0   0]\n",
      "    [  0   0   0]\n",
      "    [  0   0   0]\n",
      "    ...\n",
      "    [121 140 146]\n",
      "    [121 140 146]\n",
      "    [120 139 145]]]\n",
      "\n",
      "\n",
      "  ...\n",
      "\n",
      "\n",
      "  [[[  0   0   0]\n",
      "    [  0   0   0]\n",
      "    [  0   0   0]\n",
      "    ...\n",
      "    [  1   0   0]\n",
      "    [  1   0   0]\n",
      "    [  1   0   0]]\n",
      "\n",
      "   [[  0   0   0]\n",
      "    [  0   0   0]\n",
      "    [  0   0   0]\n",
      "    ...\n",
      "    [  1   0   0]\n",
      "    [  1   0   0]\n",
      "    [  1   0   0]]\n",
      "\n",
      "   [[  0   0   0]\n",
      "    [  0   0   0]\n",
      "    [  0   0   0]\n",
      "    ...\n",
      "    [  1   0   0]\n",
      "    [  1   0   0]\n",
      "    [  1   0   0]]\n",
      "\n",
      "   ...\n",
      "\n",
      "   [[  0   0   0]\n",
      "    [  0   0   0]\n",
      "    [  0   0   0]\n",
      "    ...\n",
      "    [  0   0   0]\n",
      "    [  0   1   0]\n",
      "    [  0   1   0]]\n",
      "\n",
      "   [[  0   0   0]\n",
      "    [  0   0   0]\n",
      "    [  0   0   0]\n",
      "    ...\n",
      "    [  0   0   0]\n",
      "    [  0   1   0]\n",
      "    [  0   1   0]]\n",
      "\n",
      "   [[  0   0   0]\n",
      "    [  0   0   0]\n",
      "    [  0   0   0]\n",
      "    ...\n",
      "    [  0   0   0]\n",
      "    [  0   1   0]\n",
      "    [  0   1   0]]]\n",
      "\n",
      "\n",
      "  [[[  0   0   0]\n",
      "    [  0   0   0]\n",
      "    [  0   0   0]\n",
      "    ...\n",
      "    [  0   0   2]\n",
      "    [  0   0   2]\n",
      "    [  0   0   2]]\n",
      "\n",
      "   [[  0   0   0]\n",
      "    [  0   0   0]\n",
      "    [  0   0   0]\n",
      "    ...\n",
      "    [  0   0   2]\n",
      "    [  0   0   2]\n",
      "    [  0   0   2]]\n",
      "\n",
      "   [[  0   0   0]\n",
      "    [  0   0   0]\n",
      "    [  0   0   0]\n",
      "    ...\n",
      "    [  0   0   2]\n",
      "    [  0   0   2]\n",
      "    [  0   0   2]]\n",
      "\n",
      "   ...\n",
      "\n",
      "   [[  0   0   0]\n",
      "    [  0   0   0]\n",
      "    [  0   0   0]\n",
      "    ...\n",
      "    [  0   0   0]\n",
      "    [  0   0   2]\n",
      "    [  0   0   2]]\n",
      "\n",
      "   [[  0   0   0]\n",
      "    [  0   0   0]\n",
      "    [  0   0   0]\n",
      "    ...\n",
      "    [  0   0   0]\n",
      "    [  0   0   2]\n",
      "    [  0   0   2]]\n",
      "\n",
      "   [[  0   0   0]\n",
      "    [  0   0   0]\n",
      "    [  0   0   0]\n",
      "    ...\n",
      "    [  0   0   0]\n",
      "    [  0   0   2]\n",
      "    [  0   0   2]]]\n",
      "\n",
      "\n",
      "  [[[  0   0   0]\n",
      "    [  0   0   0]\n",
      "    [  0   0   0]\n",
      "    ...\n",
      "    [  0   0   2]\n",
      "    [  0   1   4]\n",
      "    [  0   2   5]]\n",
      "\n",
      "   [[  0   0   0]\n",
      "    [  0   0   0]\n",
      "    [  0   0   0]\n",
      "    ...\n",
      "    [  0   0   2]\n",
      "    [  0   1   4]\n",
      "    [  0   2   5]]\n",
      "\n",
      "   [[  0   0   0]\n",
      "    [  0   0   0]\n",
      "    [  0   0   0]\n",
      "    ...\n",
      "    [  0   0   2]\n",
      "    [  0   1   4]\n",
      "    [  0   2   5]]\n",
      "\n",
      "   ...\n",
      "\n",
      "   [[  0   0   0]\n",
      "    [  0   0   0]\n",
      "    [  0   0   0]\n",
      "    ...\n",
      "    [  1   0   0]\n",
      "    [  1   0   0]\n",
      "    [  1   0   0]]\n",
      "\n",
      "   [[  0   0   0]\n",
      "    [  0   0   0]\n",
      "    [  0   0   0]\n",
      "    ...\n",
      "    [  1   0   0]\n",
      "    [  1   0   0]\n",
      "    [  1   0   0]]\n",
      "\n",
      "   [[  0   0   0]\n",
      "    [  0   0   0]\n",
      "    [  0   0   0]\n",
      "    ...\n",
      "    [  1   0   0]\n",
      "    [  1   0   0]\n",
      "    [  1   0   0]]]]\n",
      "\n",
      "\n",
      "\n",
      " [[[[210 239 255]\n",
      "    [211 240 255]\n",
      "    [211 240 255]\n",
      "    ...\n",
      "    [210 236 255]\n",
      "    [209 235 255]\n",
      "    [208 234 255]]\n",
      "\n",
      "   [[213 240 255]\n",
      "    [212 241 255]\n",
      "    [214 241 255]\n",
      "    ...\n",
      "    [212 236 255]\n",
      "    [212 236 255]\n",
      "    [211 235 255]]\n",
      "\n",
      "   [[214 240 255]\n",
      "    [213 241 255]\n",
      "    [214 240 255]\n",
      "    ...\n",
      "    [212 233 254]\n",
      "    [212 233 254]\n",
      "    [212 233 254]]\n",
      "\n",
      "   ...\n",
      "\n",
      "   [[ 53 125 183]\n",
      "    [ 54 126 184]\n",
      "    [ 49 121 179]\n",
      "    ...\n",
      "    [ 74 145 209]\n",
      "    [ 69 140 204]\n",
      "    [ 66 137 201]]\n",
      "\n",
      "   [[ 36 107 163]\n",
      "    [ 41 112 168]\n",
      "    [ 42 113 169]\n",
      "    ...\n",
      "    [ 77 148 212]\n",
      "    [ 70 144 207]\n",
      "    [ 66 140 203]]\n",
      "\n",
      "   [[ 51 122 178]\n",
      "    [ 55 126 182]\n",
      "    [ 53 124 180]\n",
      "    ...\n",
      "    [ 79 150 214]\n",
      "    [ 66 140 203]\n",
      "    [ 57 131 194]]]\n",
      "\n",
      "\n",
      "  [[[206 238 253]\n",
      "    [208 240 255]\n",
      "    [210 242 255]\n",
      "    ...\n",
      "    [209 230 247]\n",
      "    [210 231 248]\n",
      "    [211 232 249]]\n",
      "\n",
      "   [[208 237 253]\n",
      "    [208 240 255]\n",
      "    [212 241 255]\n",
      "    ...\n",
      "    [208 229 246]\n",
      "    [209 230 247]\n",
      "    [209 230 247]]\n",
      "\n",
      "   [[210 238 252]\n",
      "    [210 239 253]\n",
      "    [212 240 254]\n",
      "    ...\n",
      "    [207 230 248]\n",
      "    [207 230 248]\n",
      "    [208 231 249]]\n",
      "\n",
      "   ...\n",
      "\n",
      "   [[ 53 129 189]\n",
      "    [ 63 139 199]\n",
      "    [ 79 155 215]\n",
      "    ...\n",
      "    [123 194 248]\n",
      "    [117 190 243]\n",
      "    [113 186 239]]\n",
      "\n",
      "   [[ 51 127 187]\n",
      "    [ 58 134 194]\n",
      "    [ 67 143 203]\n",
      "    ...\n",
      "    [ 78 149 203]\n",
      "    [ 71 144 197]\n",
      "    [ 65 138 191]]\n",
      "\n",
      "   [[ 80 156 216]\n",
      "    [ 82 158 218]\n",
      "    [ 78 154 214]\n",
      "    ...\n",
      "    [ 53 124 178]\n",
      "    [ 52 125 178]\n",
      "    [ 51 124 177]]]\n",
      "\n",
      "\n",
      "  [[[ 92 168 226]\n",
      "    [ 90 166 224]\n",
      "    [ 89 165 223]\n",
      "    ...\n",
      "    [116 183 236]\n",
      "    [117 184 237]\n",
      "    [117 184 237]]\n",
      "\n",
      "   [[ 94 170 228]\n",
      "    [ 94 170 228]\n",
      "    [ 94 170 228]\n",
      "    ...\n",
      "    [101 168 221]\n",
      "    [101 168 223]\n",
      "    [102 169 222]]\n",
      "\n",
      "   [[ 90 166 224]\n",
      "    [ 92 168 226]\n",
      "    [ 95 171 229]\n",
      "    ...\n",
      "    [ 93 162 217]\n",
      "    [ 94 163 220]\n",
      "    [ 94 163 218]]\n",
      "\n",
      "   ...\n",
      "\n",
      "   [[ 44 108 170]\n",
      "    [ 45 111 172]\n",
      "    [ 50 116 177]\n",
      "    ...\n",
      "    [ 75 149 210]\n",
      "    [ 71 145 206]\n",
      "    [ 69 143 204]]\n",
      "\n",
      "   [[ 50 111 174]\n",
      "    [ 52 116 178]\n",
      "    [ 58 122 184]\n",
      "    ...\n",
      "    [ 78 152 215]\n",
      "    [ 78 152 215]\n",
      "    [ 78 152 215]]\n",
      "\n",
      "   [[ 45 106 169]\n",
      "    [ 50 111 174]\n",
      "    [ 54 118 180]\n",
      "    ...\n",
      "    [ 86 160 223]\n",
      "    [ 90 164 227]\n",
      "    [ 93 167 230]]]\n",
      "\n",
      "\n",
      "  ...\n",
      "\n",
      "\n",
      "  [[[103 175 233]\n",
      "    [ 97 169 227]\n",
      "    [ 93 165 223]\n",
      "    ...\n",
      "    [ 86 155 214]\n",
      "    [ 88 157 216]\n",
      "    [ 89 158 217]]\n",
      "\n",
      "   [[ 99 171 229]\n",
      "    [ 95 167 225]\n",
      "    [ 92 164 222]\n",
      "    ...\n",
      "    [106 175 234]\n",
      "    [108 177 236]\n",
      "    [109 178 237]]\n",
      "\n",
      "   [[ 92 164 222]\n",
      "    [ 88 160 218]\n",
      "    [ 88 160 218]\n",
      "    ...\n",
      "    [105 174 233]\n",
      "    [107 176 235]\n",
      "    [108 177 236]]\n",
      "\n",
      "   ...\n",
      "\n",
      "   [[ 76 141 195]\n",
      "    [ 62 127 181]\n",
      "    [ 46 111 165]\n",
      "    ...\n",
      "    [ 50 116 164]\n",
      "    [ 51 117 165]\n",
      "    [ 51 117 165]]\n",
      "\n",
      "   [[ 83 148 202]\n",
      "    [ 69 134 188]\n",
      "    [ 52 117 171]\n",
      "    ...\n",
      "    [ 96 163 208]\n",
      "    [ 81 148 193]\n",
      "    [ 69 136 181]]\n",
      "\n",
      "   [[ 74 139 193]\n",
      "    [ 63 128 182]\n",
      "    [ 50 115 169]\n",
      "    ...\n",
      "    [149 216 255]\n",
      "    [139 206 251]\n",
      "    [131 198 243]]]\n",
      "\n",
      "\n",
      "  [[[108 180 238]\n",
      "    [101 173 231]\n",
      "    [ 96 168 226]\n",
      "    ...\n",
      "    [ 96 165 224]\n",
      "    [100 169 228]\n",
      "    [108 177 236]]\n",
      "\n",
      "   [[ 94 166 224]\n",
      "    [ 88 160 218]\n",
      "    [ 87 159 217]\n",
      "    ...\n",
      "    [102 171 230]\n",
      "    [106 175 234]\n",
      "    [113 182 241]]\n",
      "\n",
      "   [[ 99 171 229]\n",
      "    [ 93 165 223]\n",
      "    [ 94 166 224]\n",
      "    ...\n",
      "    [ 98 167 226]\n",
      "    [102 171 230]\n",
      "    [107 176 235]]\n",
      "\n",
      "   ...\n",
      "\n",
      "   [[ 61 128 181]\n",
      "    [ 61 128 181]\n",
      "    [ 63 130 183]\n",
      "    ...\n",
      "    [ 47 117 166]\n",
      "    [ 43 113 162]\n",
      "    [ 37 109 157]]\n",
      "\n",
      "   [[ 58 125 178]\n",
      "    [ 58 125 178]\n",
      "    [ 62 129 182]\n",
      "    ...\n",
      "    [ 70 140 189]\n",
      "    [ 58 128 177]\n",
      "    [ 44 117 162]]\n",
      "\n",
      "   [[ 50 117 170]\n",
      "    [ 49 116 169]\n",
      "    [ 56 123 176]\n",
      "    ...\n",
      "    [126 196 245]\n",
      "    [110 181 227]\n",
      "    [ 91 164 209]]]\n",
      "\n",
      "\n",
      "  [[[ 99 178 234]\n",
      "    [ 98 177 233]\n",
      "    [100 177 233]\n",
      "    ...\n",
      "    [ 95 164 223]\n",
      "    [101 170 229]\n",
      "    [108 177 236]]\n",
      "\n",
      "   [[ 94 173 229]\n",
      "    [ 90 169 225]\n",
      "    [ 87 164 220]\n",
      "    ...\n",
      "    [106 175 234]\n",
      "    [109 178 237]\n",
      "    [112 181 240]]\n",
      "\n",
      "   [[ 90 167 223]\n",
      "    [ 86 163 219]\n",
      "    [ 81 158 214]\n",
      "    ...\n",
      "    [103 172 231]\n",
      "    [105 174 233]\n",
      "    [107 176 235]]\n",
      "\n",
      "   ...\n",
      "\n",
      "   [[ 50 116 168]\n",
      "    [ 52 118 170]\n",
      "    [ 55 121 173]\n",
      "    ...\n",
      "    [ 43 109 161]\n",
      "    [ 33  99 151]\n",
      "    [ 28  94 146]]\n",
      "\n",
      "   [[ 56 122 174]\n",
      "    [ 58 124 176]\n",
      "    [ 60 126 178]\n",
      "    ...\n",
      "    [ 28  93 147]\n",
      "    [ 35 100 154]\n",
      "    [ 43 108 162]]\n",
      "\n",
      "   [[ 57 123 175]\n",
      "    [ 59 125 177]\n",
      "    [ 61 127 179]\n",
      "    ...\n",
      "    [ 50 115 169]\n",
      "    [ 53 118 172]\n",
      "    [ 53 118 172]]]]]\n"
     ]
    }
   ],
   "source": [
    "import time\n",
    "\n",
    "all_videos = []\n",
    "\n",
    "start = time.time()\n",
    "# for i in range(1): #num_batches\n",
    "    \n",
    "pipe_out = pipe.run()\n",
    "print(pipe_out[0].as_array().shape)\n",
    "print(pipe_out[0].as_array())\n",
    "\n",
    "#     sequences_out = np.array(pipe_out[0][0])\n",
    "#     all_videos.append(sequences_out)\n",
    "    \n",
    "#     print(f\"Batch {i} shape: {sequences_out.shape}\")\n",
    "    #show_sequence(sequences_out, sequence_length=5)\n",
    "\n",
    "stop = time.time()\n",
    "# np.array(all_videos).shape"
   ]
  },
  {
   "cell_type": "code",
   "execution_count": 19,
   "id": "423fb5a5",
   "metadata": {},
   "outputs": [
    {
     "data": {
      "text/plain": [
       "(461, 224, 224, 3)"
      ]
     },
     "execution_count": 19,
     "metadata": {},
     "output_type": "execute_result"
    }
   ],
   "source": [
    "videos = np.array(all_videos)\n",
    "videos[0].shape"
   ]
  },
  {
   "cell_type": "markdown",
   "id": "3da1abae",
   "metadata": {},
   "source": [
    "### Checking to see if N_ITER wraps around when N_ITER > num. of videos in directory"
   ]
  },
  {
   "cell_type": "code",
   "execution_count": 48,
   "id": "a7e36295",
   "metadata": {},
   "outputs": [
    {
     "name": "stdout",
     "output_type": "stream",
     "text": [
      "0 and 364 have the same frame at index 350.\n",
      "1 and 365 have the same frame at index 350.\n",
      "227 and 240 have the same frame at index 350.\n",
      "240 and 227 have the same frame at index 350.\n",
      "364 and 0 have the same frame at index 350.\n",
      "365 and 1 have the same frame at index 350.\n"
     ]
    }
   ],
   "source": [
    "for i in range(len(videos)):\n",
    "    curr_frame = videos[i][350]\n",
    "    for j in range(len(videos)):\n",
    "        if (curr_frame == videos[j][350]).all() and (i != j):\n",
    "            print(f'{i} and {j} have the same frame at index 350.')\n",
    "            \n",
    "## we have duplicate videos loaded in at index 240, 364, and 365\n",
    "## 240 might be a pre-existing duplicate in our dataset \n",
    "## 364 and 365 are most-likely duplicates based on the N_ITER > 364 and wrapping around\n",
    "## the last original video loaded in w/o wrapping around has index 363 bc of 0-based indexing (i=363 is the 364th video)"
   ]
  },
  {
   "cell_type": "code",
   "execution_count": 94,
   "id": "c97516a7",
   "metadata": {},
   "outputs": [
    {
     "data": {
      "image/png": "[encoded data removed]",
      "text/plain": [
       "<Figure size 432x288 with 2 Axes>"
      ]
     },
     "metadata": {
      "needs_background": "light"
     },
     "output_type": "display_data"
    },
    {
     "data": {
      "image/png": "[encoded data removed]",
      "text/plain": [
       "<Figure size 432x288 with 2 Axes>"
      ]
     },
     "metadata": {
      "needs_background": "light"
     },
     "output_type": "display_data"
    }
   ],
   "source": [
    "import matplotlib.pyplot as plt\n",
    "\n",
    "plt.figure()\n",
    "plt.imshow(videos[227][350])\n",
    "plt.colorbar()\n",
    "plt.grid(False)\n",
    "plt.show()\n",
    "\n",
    "plt.figure()\n",
    "plt.imshow(videos[240][350])\n",
    "plt.colorbar()\n",
    "plt.grid(False)\n",
    "plt.show()"
   ]
  },
  {
   "cell_type": "code",
   "execution_count": 62,
   "id": "1473bf52",
   "metadata": {},
   "outputs": [
    {
     "data": {
      "text/plain": [
       "(364, 12)"
      ]
     },
     "execution_count": 62,
     "metadata": {},
     "output_type": "execute_result"
    }
   ],
   "source": [
    "#count of videos in our dataset\n",
    "import pandas as pd\n",
    "\n",
    "df = pd.read_csv('/mount/data/downloaded_videos.csv')\n",
    "df.shape"
   ]
  },
  {
   "cell_type": "code",
   "execution_count": 64,
   "id": "e7d23f6c",
   "metadata": {},
   "outputs": [
    {
     "name": "stdout",
     "output_type": "stream",
     "text": [
      "365\n"
     ]
    }
   ],
   "source": [
    "#count of videos in our directory (includes one extra)\n",
    "import os\n",
    "print(len(next(os.walk('/mount/data/dali_frames'))[1]))"
   ]
  },
  {
   "cell_type": "code",
   "execution_count": 66,
   "id": "747efa78",
   "metadata": {},
   "outputs": [
    {
     "name": "stdout",
     "output_type": "stream",
     "text": [
      "365\n"
     ]
    }
   ],
   "source": [
    "#remove the folder with the name that is not in our df\n",
    "folders = os.listdir('/mount/data/dali_frames')\n",
    "print(len(folders))"
   ]
  },
  {
   "cell_type": "code",
   "execution_count": 76,
   "id": "5ed074f4",
   "metadata": {},
   "outputs": [
    {
     "data": {
      "text/plain": [
       "['video_clip_0000',\n",
       " 'video_clip_0001',\n",
       " 'video_clip_0002',\n",
       " 'video_clip_0003',\n",
       " 'video_clip_0004']"
      ]
     },
     "execution_count": 76,
     "metadata": {},
     "output_type": "execute_result"
    }
   ],
   "source": [
    "true_video_names = list(df['renamed_title'].values)\n",
    "true_video_names = [name.replace('_', '_clip_').replace('.mp4', '') for name in true_video_names]\n",
    "true_video_names[0:5]"
   ]
  },
  {
   "cell_type": "code",
   "execution_count": 80,
   "id": "0c3a7e77",
   "metadata": {},
   "outputs": [
    {
     "name": "stdout",
     "output_type": "stream",
     "text": [
      ".ipynb_checkpoints\n"
     ]
    }
   ],
   "source": [
    "for video_file in folders:\n",
    "    if video_file not in true_video_names:\n",
    "        print(video_file)"
   ]
  },
  {
   "cell_type": "code",
   "execution_count": 102,
   "id": "b595ccde",
   "metadata": {},
   "outputs": [
    {
     "data": {
      "text/plain": [
       "king whale (2021) #shorts                                                                              True\n",
       "Humpback Whales                                                                                        True\n",
       "whale sound (2021) #shorts# amazing sound wanle                                                        True\n",
       "Humpback Whale                                                                                         True\n",
       "Follow for more video       #reels  #explorepage #explore #youradventuregram #nature #sea #ocean       True\n",
       "                                                                                                      ...  \n",
       "Up She rises  Humpback Whale air lifts seagull                                                        False\n",
       "CIMS Humpback Responds20110731                                                                        False\n",
       "Kayakers Get the Surprise Of Their Life- Humpback Whale Surprise- Wait For It- Inches From kayaker    False\n",
       "Humpback whale breach compilation (Seabright Beach, Santa Cruz, California)                           False\n",
       "Sammy&#39;s Science House 11 3 2020 2 25 44 PM                                                        False\n",
       "Name: title, Length: 349, dtype: bool"
      ]
     },
     "execution_count": 102,
     "metadata": {},
     "output_type": "execute_result"
    }
   ],
   "source": [
    "df.title.value_counts() > 1\n",
    "\n",
    "# df[df.title == 'king whale (2021) #shorts']\n",
    "# df[df.title == 'Follow for more video       #reels  #explorepage #explore #youradventuregram #nature #sea #ocean']"
   ]
  },
  {
   "cell_type": "markdown",
   "id": "bfe2b6f7",
   "metadata": {},
   "source": [
    "`how does DALI pipelines work for image reading? What are the iterations for?`"
   ]
  },
  {
   "cell_type": "markdown",
   "id": "2fe0c616",
   "metadata": {},
   "source": [
    "`why am I able to go through 365 iterations when I only have 364 videos? Why do we need to iterate? What does pip.run() return?`"
   ]
  },
  {
   "cell_type": "markdown",
   "id": "4e4269ad",
   "metadata": {},
   "source": [
    "# Multiprocessing\n",
    "\n",
    "Resources:\n",
    "- https://stackoverflow.com/questions/50233954/fastest-way-to-load-images-in-python-for-processing"
   ]
  },
  {
   "cell_type": "code",
   "execution_count": 1,
   "id": "6e2f498a",
   "metadata": {},
   "outputs": [
    {
     "name": "stdout",
     "output_type": "stream",
     "text": [
      "There are 80 CPUs on this machine \n",
      "we need to load 461 frames from all 5 of our videos\n",
      "Loaded frames in 57.806967973709106 seconds\n"
     ]
    }
   ],
   "source": [
    "from multiprocessing import Pool, cpu_count\n",
    "from functools import partial\n",
    "import time\n",
    "from multiprocessing import Process\n",
    "import cv2\n",
    "import pandas as pd\n",
    "import numpy as np\n",
    "\n",
    "workspace_path = '/mount/data'\n",
    "\n",
    "#this is the function to be parallelized\n",
    "def load_frames(video_title, max_frames=461):\n",
    "    '''read all frames in for 1 video from workspace 'frames' directory'''\n",
    "\n",
    "    #get number associated with clip to retrieve respective frames\n",
    "    clip_number = video_title.split('_')[1].split('.')[0]\n",
    "\n",
    "    #create list to store each frame\n",
    "    frames = np.empty((461, 224, 224, 3), dtype=np.uint8)\n",
    "    \n",
    "    for i in range(max_frames):\n",
    "\n",
    "        #read in .jpg file as array for video clip \n",
    "        frames[i, ...] = cv2.imread(workspace_path + f'/frames/clip_{clip_number}_frame_{i}.jpg')\n",
    "\n",
    "    return frames, video_title\n",
    "\n",
    "if __name__ == '__main__':\n",
    "    \n",
    "    #get list of .mp4 clip files to extract frames from\n",
    "    downloads_df = pd.read_csv(workspace_path + '/downloaded_videos.csv')\n",
    "    video_titles = list(downloads_df.renamed_title)[0:5]    \n",
    "\n",
    "    #print out message about how many CPUs are available\n",
    "    print(f\"There are {cpu_count()} CPUs on this machine \")\n",
    "    print(f\"we need to load 461 frames from all {len(video_titles)} of our videos\")\n",
    "    \n",
    "    #instantiate parallel processes with all available cpu's\n",
    "    start = time.time()\n",
    "    pool = Pool(cpu_count())\n",
    "\n",
    "    #map frame extraction function to processes\n",
    "    load_data = partial(load_frames, max_frames=461)\n",
    "    results = pool.map(load_data, video_titles)\n",
    "\n",
    "    #terminate worker processes now that parallelizable portion is finished\n",
    "    pool.close()\n",
    "\n",
    "    # wait for the worker processes to terminate.\n",
    "    pool.join()\n",
    "    \n",
    "    stop = time.time()\n",
    "    \n",
    "    print(f'Loaded frames in {stop-start} seconds')"
   ]
  },
  {
   "cell_type": "code",
   "execution_count": 5,
   "id": "d6cf6129",
   "metadata": {},
   "outputs": [
    {
     "data": {
      "text/plain": [
       "(461, 224, 224, 3)"
      ]
     },
     "execution_count": 5,
     "metadata": {},
     "output_type": "execute_result"
    }
   ],
   "source": [
    "results[0][0].shape #list of (frames, video_name) tuples"
   ]
  },
  {
   "cell_type": "code",
   "execution_count": 9,
   "id": "b557dea7",
   "metadata": {},
   "outputs": [
    {
     "data": {
      "image/png": "[encoded data removed]",
      "text/plain": [
       "<Figure size 432x288 with 2 Axes>"
      ]
     },
     "metadata": {
      "needs_background": "light"
     },
     "output_type": "display_data"
    }
   ],
   "source": [
    "import matplotlib.pyplot as plt\n",
    "\n",
    "test_frames = results[0][0]\n",
    "test_image = test_frames[350]\n",
    "\n",
    "plt.figure()\n",
    "plt.imshow(test_image)\n",
    "plt.colorbar()\n",
    "plt.grid(False)\n",
    "plt.show()"
   ]
  },
  {
   "cell_type": "markdown",
   "id": "f824a399",
   "metadata": {},
   "source": [
    "# HDF5"
   ]
  },
  {
   "cell_type": "markdown",
   "id": "e0e829a8",
   "metadata": {},
   "source": [
    "Resources:\n",
    "- https://realpython.com/storing-images-in-python/"
   ]
  },
  {
   "cell_type": "markdown",
   "id": "12ccd9e0",
   "metadata": {},
   "source": [
    "### Storing Images as HDF5 Dataset + Labels"
   ]
  },
  {
   "cell_type": "code",
   "execution_count": 23,
   "id": "b57a1c04",
   "metadata": {},
   "outputs": [],
   "source": [
    "from pathlib import Path\n",
    "import h5py\n",
    "\n",
    "hdf5_dir = Path(\"tst_data/hdf5/\")\n",
    "hdf5_dir.mkdir(parents=True, exist_ok=True)\n",
    "\n",
    "def store_single_hdf5(image, image_id, label):\n",
    "    \"\"\" Stores a single image to an HDF5 file.\n",
    "        Parameters:\n",
    "        ---------------\n",
    "        image       image array, (IMG_SIZE, IMG_SIZE, 3) to be stored\n",
    "        image_id    integer unique ID for image\n",
    "        label       image label\n",
    "    \"\"\"\n",
    "    # Create a new HDF5 file\n",
    "    file = h5py.File(hdf5_dir / f\"{image_id}.h5\", \"w\")\n",
    "\n",
    "    # Create a dataset in the file\n",
    "    dataset = file.create_dataset(\n",
    "        \"image\", np.shape(image), h5py.h5t.STD_U8BE, data=image\n",
    "    )\n",
    "    \n",
    "    meta_set = file.create_dataset(\n",
    "        \"meta\", np.shape(label), h5py.h5t.STD_U8BE, data=label\n",
    "    )\n",
    "    \n",
    "    file.close()\n",
    "\n",
    "def store_many_hdf5(images, labels, video_name):\n",
    "    \"\"\"\n",
    "    Stores an array of images to HDF5\n",
    "    Parameters:\n",
    "    -------------------------\n",
    "    images    images array (N, IMG_SIZE, IMG_SIZE, 3) to be stored\n",
    "    labels    labels array (N, 1) to be stored\n",
    "    \"\"\"\n",
    "    \n",
    "    num_images = len(images)\n",
    "    \n",
    "    #create a new HDF5 file\n",
    "    file = h5py.File(hdf5_dir / f\"{video_name}_{num_images}.h5\", \"w\")\n",
    "    \n",
    "    #create a dataset in the file\n",
    "    dataset = file.create_dataset(\n",
    "        \"images\", np.shape(images), h5py.h5t.STD_U8BE, data=images\n",
    "    )\n",
    "    \n",
    "    meta_set = file.create_dataset(\n",
    "        \"meta\", np.shape(labels), h5py.h5t.STD_U8BE, data=labels\n",
    "    )\n",
    "    \n",
    "    file.close()\n",
    "    \n",
    "def read_single_hdf5(image_id):\n",
    "    \"\"\" Reads a single HDF5 image to numpy array.\n",
    "        Parameters:\n",
    "        ---------------\n",
    "        image_id    integer unique ID for image\n",
    "\n",
    "        Returns:\n",
    "        ----------\n",
    "        image       image array, (IMG_SIZE, IMG_SIZE, 3) to be stored\n",
    "        label       associated meta data, int label\n",
    "    \"\"\"\n",
    "    # Open the HDF5 file\n",
    "    file = h5py.File(hdf5_dir / f\"{image_id}.h5\", \"r+\")\n",
    "\n",
    "    image = np.array(file[\"/image\"]).astype(\"uint8\")\n",
    "    label = int(np.array(file[\"/meta\"]).astype(\"uint8\"))\n",
    "\n",
    "    return image, label\n",
    "\n",
    "def read_many_hdf5(num_images, video_name):\n",
    "    \"\"\" Reads image from HDF5.\n",
    "        Parameters:\n",
    "        ---------------\n",
    "        num_images   number of images to read\n",
    "\n",
    "        Returns:\n",
    "        ----------\n",
    "        images      images array, (N, 32, 32, 3) to be stored\n",
    "        labels      associated meta data, int label (N, 1)\n",
    "    \"\"\"\n",
    "    images, labels = [], []\n",
    "\n",
    "    # Open the HDF5 file\n",
    "    file = h5py.File(hdf5_dir / f\"{video_name}_{num_images}.h5\", \"r+\")\n",
    "\n",
    "    images = np.array(file[\"/images\"]).astype(\"uint8\")\n",
    "    labels = np.array(file[\"/meta\"]).astype(\"uint8\")\n",
    "\n",
    "    return images, labels"
   ]
  },
  {
   "cell_type": "code",
   "execution_count": 10,
   "id": "89b01256",
   "metadata": {},
   "outputs": [
    {
     "data": {
      "image/png": "[encoded data removed]",
      "text/plain": [
       "<Figure size 432x288 with 2 Axes>"
      ]
     },
     "metadata": {
      "needs_background": "light"
     },
     "output_type": "display_data"
    }
   ],
   "source": [
    "import matplotlib.pyplot as plt\n",
    "\n",
    "test_frames = results[0][0]\n",
    "test_image = test_frames[350]\n",
    "\n",
    "plt.figure()\n",
    "plt.imshow(test_image)\n",
    "plt.colorbar()\n",
    "plt.grid(False)\n",
    "plt.show()"
   ]
  },
  {
   "cell_type": "code",
   "execution_count": 14,
   "id": "cf8385dc",
   "metadata": {},
   "outputs": [],
   "source": [
    "store_single_hdf5(test_image, image_id=\"image-1\", label=1)"
   ]
  },
  {
   "cell_type": "code",
   "execution_count": 17,
   "id": "8fe13717",
   "metadata": {},
   "outputs": [
    {
     "name": "stdout",
     "output_type": "stream",
     "text": [
      "(224, 224, 3)\n"
     ]
    },
    {
     "data": {
      "text/plain": [
       "1"
      ]
     },
     "execution_count": 17,
     "metadata": {},
     "output_type": "execute_result"
    }
   ],
   "source": [
    "img, label = read_single_hdf5(\"image-1\")\n",
    "\n",
    "print(img.shape)\n",
    "label"
   ]
  },
  {
   "cell_type": "code",
   "execution_count": 22,
   "id": "a2ac1245",
   "metadata": {},
   "outputs": [],
   "source": [
    "test_labels = [1 for i in range(test_frames.shape[0])]\n",
    "video_name = \"video_clip_0000\"\n",
    "store_many_hdf5(test_frames, test_labels, video_name)"
   ]
  },
  {
   "cell_type": "code",
   "execution_count": 26,
   "id": "bad2398d",
   "metadata": {},
   "outputs": [
    {
     "name": "stdout",
     "output_type": "stream",
     "text": [
      "(461, 224, 224, 3)\n",
      "461\n"
     ]
    }
   ],
   "source": [
    "imgs, labels = read_many_hdf5(461, video_name)\n",
    "\n",
    "print(imgs.shape)\n",
    "print(len(labels))"
   ]
  },
  {
   "cell_type": "markdown",
   "id": "613b5d65",
   "metadata": {},
   "source": [
    "## Reading .JPEG Images into HDF5 Dataset + Labels"
   ]
  },
  {
   "cell_type": "code",
   "execution_count": 37,
   "id": "fc26d8d2",
   "metadata": {},
   "outputs": [],
   "source": [
    "from hdf5_data_loading import get_video_frames,store_frames_hdf5\n",
    "frame_ind, frames = get_video_frames(\"video_clip_0000.mp4\", max_frames=461)"
   ]
  },
  {
   "cell_type": "code",
   "execution_count": 40,
   "id": "2240dda1",
   "metadata": {},
   "outputs": [
    {
     "data": {
      "text/plain": [
       "(461, 224, 224, 3)"
      ]
     },
     "execution_count": 40,
     "metadata": {},
     "output_type": "execute_result"
    }
   ],
   "source": [
    "frames.shape"
   ]
  },
  {
   "cell_type": "code",
   "execution_count": 45,
   "id": "1efe0199",
   "metadata": {},
   "outputs": [
    {
     "name": "stdout",
     "output_type": "stream",
     "text": [
      "Done.\n"
     ]
    }
   ],
   "source": [
    "labels = [1 for i in range(frames.shape[0])]\n",
    "video_clip_title = \"video_clip_0000\"\n",
    "store_frames_hdf5(frames, labels, video_clip_title)\n",
    "print('Done.')"
   ]
  },
  {
   "cell_type": "code",
   "execution_count": 46,
   "id": "3394049d",
   "metadata": {},
   "outputs": [],
   "source": [
    "from hdf5_data_loading import *\n",
    "images, labels = read_frames_hdf5(video_clip_title)"
   ]
  },
  {
   "cell_type": "code",
   "execution_count": 48,
   "id": "381024e6",
   "metadata": {},
   "outputs": [
    {
     "data": {
      "text/plain": [
       "(461, 224, 224, 3)"
      ]
     },
     "execution_count": 48,
     "metadata": {},
     "output_type": "execute_result"
    }
   ],
   "source": [
    "images.shape"
   ]
  },
  {
   "cell_type": "code",
   "execution_count": 51,
   "id": "59a5b725",
   "metadata": {},
   "outputs": [
    {
     "data": {
      "text/plain": [
       "1"
      ]
     },
     "execution_count": 51,
     "metadata": {},
     "output_type": "execute_result"
    }
   ],
   "source": [
    "labels.min()"
   ]
  }
 ],
 "metadata": {
  "kernelspec": {
   "display_name": "Python 3 (ipykernel)",
   "language": "python",
   "name": "python3"
  },
  "language_info": {
   "codemirror_mode": {
    "name": "ipython",
    "version": 3
   },
   "file_extension": ".py",
   "mimetype": "text/x-python",
   "name": "python",
   "nbconvert_exporter": "python",
   "pygments_lexer": "ipython3",
   "version": "3.8.10"
  }
 },
 "nbformat": 4,
 "nbformat_minor": 5
}
