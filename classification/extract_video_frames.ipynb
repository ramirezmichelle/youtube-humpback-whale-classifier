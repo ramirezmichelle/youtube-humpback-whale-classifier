{
 "cells": [
  {
   "cell_type": "markdown",
   "id": "a1cacdd7",
   "metadata": {},
   "source": [
    "# Investigating Discrepancies in Amount of Frames Extracted\n",
    "\n",
    "Playground for figuring out why OpenCV was not downloading all frames stated to be available in frame count. Ended up using decord library for frame extraction in download_frames_parallel.py\n",
    "\n",
    "This notebook has not other uses besides trying methods out and exploring the problem mentioned above. "
   ]
  },
  {
   "cell_type": "code",
   "execution_count": 121,
   "id": "29c02cb2",
   "metadata": {},
   "outputs": [
    {
     "name": "stdout",
     "output_type": "stream",
     "text": [
      "The autoreload extension is already loaded. To reload it, use:\n",
      "  %reload_ext autoreload\n"
     ]
    }
   ],
   "source": [
    "%load_ext autoreload\n",
    "%autoreload 2"
   ]
  },
  {
   "cell_type": "code",
   "execution_count": 1,
   "id": "0ec4768c",
   "metadata": {},
   "outputs": [],
   "source": [
    "import pandas as pd\n",
    "import numpy as np\n",
    "\n",
    "from data_preprocessing import get_video_frames"
   ]
  },
  {
   "cell_type": "code",
   "execution_count": 3,
   "id": "8c35dee0",
   "metadata": {},
   "outputs": [
    {
     "data": {
      "text/html": [
       "<div>\n",
       "<style scoped>\n",
       "    .dataframe tbody tr th:only-of-type {\n",
       "        vertical-align: middle;\n",
       "    }\n",
       "\n",
       "    .dataframe tbody tr th {\n",
       "        vertical-align: top;\n",
       "    }\n",
       "\n",
       "    .dataframe thead th {\n",
       "        text-align: right;\n",
       "    }\n",
       "</style>\n",
       "<table border=\"1\" class=\"dataframe\">\n",
       "  <thead>\n",
       "    <tr style=\"text-align: right;\">\n",
       "      <th></th>\n",
       "      <th>video_id</th>\n",
       "      <th>url</th>\n",
       "      <th>title</th>\n",
       "      <th>license</th>\n",
       "      <th>relevant</th>\n",
       "      <th>renamed_title</th>\n",
       "      <th>clip_start</th>\n",
       "      <th>clip_end</th>\n",
       "      <th>duration</th>\n",
       "      <th>frames_collected</th>\n",
       "      <th>frames_reported</th>\n",
       "      <th>frames_reported_decord</th>\n",
       "    </tr>\n",
       "  </thead>\n",
       "  <tbody>\n",
       "    <tr>\n",
       "      <th>0</th>\n",
       "      <td>67OIlq2oMt0</td>\n",
       "      <td>https://youtu.be/67OIlq2oMt0</td>\n",
       "      <td>Hawaiian Islands Humpback Whale National Marin...</td>\n",
       "      <td>creativeCommon</td>\n",
       "      <td>True</td>\n",
       "      <td>video_0000.mp4</td>\n",
       "      <td>10</td>\n",
       "      <td>25</td>\n",
       "      <td>266.0</td>\n",
       "      <td>361.0</td>\n",
       "      <td>473.0</td>\n",
       "      <td>473.0</td>\n",
       "    </tr>\n",
       "    <tr>\n",
       "      <th>1</th>\n",
       "      <td>EUcMuUBMYJc</td>\n",
       "      <td>https://youtu.be/EUcMuUBMYJc</td>\n",
       "      <td>Tagging expedition: revealing the delicate nur...</td>\n",
       "      <td>creativeCommon</td>\n",
       "      <td>True</td>\n",
       "      <td>video_0001.mp4</td>\n",
       "      <td>44</td>\n",
       "      <td>59</td>\n",
       "      <td>269.0</td>\n",
       "      <td>360.0</td>\n",
       "      <td>441.0</td>\n",
       "      <td>441.0</td>\n",
       "    </tr>\n",
       "    <tr>\n",
       "      <th>2</th>\n",
       "      <td>dpSuygz7ZmA</td>\n",
       "      <td>https://youtu.be/dpSuygz7ZmA</td>\n",
       "      <td>Your Earth Is Blue: Disentangling a Humpback W...</td>\n",
       "      <td>creativeCommon</td>\n",
       "      <td>True</td>\n",
       "      <td>video_0002.mp4</td>\n",
       "      <td>5</td>\n",
       "      <td>20</td>\n",
       "      <td>102.0</td>\n",
       "      <td>361.0</td>\n",
       "      <td>398.0</td>\n",
       "      <td>398.0</td>\n",
       "    </tr>\n",
       "    <tr>\n",
       "      <th>3</th>\n",
       "      <td>jfPzlFLEuKk</td>\n",
       "      <td>https://youtu.be/jfPzlFLEuKk</td>\n",
       "      <td>Humpback Whale || Description, Characteristics...</td>\n",
       "      <td>creativeCommon</td>\n",
       "      <td>True</td>\n",
       "      <td>video_0003.mp4</td>\n",
       "      <td>160</td>\n",
       "      <td>175</td>\n",
       "      <td>238.0</td>\n",
       "      <td>450.0</td>\n",
       "      <td>456.0</td>\n",
       "      <td>456.0</td>\n",
       "    </tr>\n",
       "    <tr>\n",
       "      <th>4</th>\n",
       "      <td>xGasapMoy4I</td>\n",
       "      <td>https://youtu.be/xGasapMoy4I</td>\n",
       "      <td>Your Earth Is Blue: Humpback Whales</td>\n",
       "      <td>creativeCommon</td>\n",
       "      <td>True</td>\n",
       "      <td>video_0004.mp4</td>\n",
       "      <td>0</td>\n",
       "      <td>15</td>\n",
       "      <td>83.0</td>\n",
       "      <td>451.0</td>\n",
       "      <td>451.0</td>\n",
       "      <td>451.0</td>\n",
       "    </tr>\n",
       "  </tbody>\n",
       "</table>\n",
       "</div>"
      ],
      "text/plain": [
       "      video_id                           url  \\\n",
       "0  67OIlq2oMt0  https://youtu.be/67OIlq2oMt0   \n",
       "1  EUcMuUBMYJc  https://youtu.be/EUcMuUBMYJc   \n",
       "2  dpSuygz7ZmA  https://youtu.be/dpSuygz7ZmA   \n",
       "3  jfPzlFLEuKk  https://youtu.be/jfPzlFLEuKk   \n",
       "4  xGasapMoy4I  https://youtu.be/xGasapMoy4I   \n",
       "\n",
       "                                               title         license  \\\n",
       "0  Hawaiian Islands Humpback Whale National Marin...  creativeCommon   \n",
       "1  Tagging expedition: revealing the delicate nur...  creativeCommon   \n",
       "2  Your Earth Is Blue: Disentangling a Humpback W...  creativeCommon   \n",
       "3  Humpback Whale || Description, Characteristics...  creativeCommon   \n",
       "4                Your Earth Is Blue: Humpback Whales  creativeCommon   \n",
       "\n",
       "   relevant   renamed_title  clip_start  clip_end  duration  frames_collected  \\\n",
       "0      True  video_0000.mp4          10        25     266.0             361.0   \n",
       "1      True  video_0001.mp4          44        59     269.0             360.0   \n",
       "2      True  video_0002.mp4           5        20     102.0             361.0   \n",
       "3      True  video_0003.mp4         160       175     238.0             450.0   \n",
       "4      True  video_0004.mp4           0        15      83.0             451.0   \n",
       "\n",
       "   frames_reported  frames_reported_decord  \n",
       "0            473.0                   473.0  \n",
       "1            441.0                   441.0  \n",
       "2            398.0                   398.0  \n",
       "3            456.0                   456.0  \n",
       "4            451.0                   451.0  "
      ]
     },
     "execution_count": 3,
     "metadata": {},
     "output_type": "execute_result"
    }
   ],
   "source": [
    "#load video clip info dataframe\n",
    "workspace_path = '/mount/data'\n",
    "downloads_df = pd.read_csv(workspace_path + '/downloaded_videos.csv')\n",
    "downloads_df.head()"
   ]
  },
  {
   "cell_type": "markdown",
   "id": "49bc1401",
   "metadata": {},
   "source": [
    "# Clean up frame directory (testing)"
   ]
  },
  {
   "cell_type": "code",
   "execution_count": 163,
   "id": "f58a5cdf",
   "metadata": {},
   "outputs": [],
   "source": [
    "#remove frames from test frame directory\n",
    "import os\n",
    "import glob\n",
    "\n",
    "# files = glob.glob('/workspace/youtube-humpback-whale-classifier/classification/frames/clip_0000_frame*.jpg')\n",
    "\n",
    "#DELETING FROM WORKSPACE\n",
    "files = glob.glob(workspace_path + '/frames/clip*.jpg')\n",
    "\n",
    "for f in files:\n",
    "    os.remove(f)"
   ]
  },
  {
   "cell_type": "markdown",
   "id": "f31cce3b",
   "metadata": {},
   "source": [
    "# Save frames as .jpg files in workspace with frame count limit \n",
    "\n",
    "`max_frames = 461`\n",
    "\n",
    "More about Decord: \n",
    "\n",
    "- https://towardsdatascience.com/lightning-fast-video-reading-in-python-c1438771c4e6 \n",
    "\n",
    "- https://github.com/dmlc/decord\n",
    "\n",
    "- https://medium.com/@haydenfaulkner/extracting-frames-fast-from-a-video-using-opencv-and-python-73b9b7dc9661"
   ]
  },
  {
   "cell_type": "code",
   "execution_count": 160,
   "id": "7402e90a",
   "metadata": {},
   "outputs": [
    {
     "data": {
      "text/html": [
       "<div>\n",
       "<style scoped>\n",
       "    .dataframe tbody tr th:only-of-type {\n",
       "        vertical-align: middle;\n",
       "    }\n",
       "\n",
       "    .dataframe tbody tr th {\n",
       "        vertical-align: top;\n",
       "    }\n",
       "\n",
       "    .dataframe thead th {\n",
       "        text-align: right;\n",
       "    }\n",
       "</style>\n",
       "<table border=\"1\" class=\"dataframe\">\n",
       "  <thead>\n",
       "    <tr style=\"text-align: right;\">\n",
       "      <th></th>\n",
       "      <th>video_id</th>\n",
       "      <th>url</th>\n",
       "      <th>title</th>\n",
       "      <th>license</th>\n",
       "      <th>relevant</th>\n",
       "      <th>renamed_title</th>\n",
       "      <th>clip_start</th>\n",
       "      <th>clip_end</th>\n",
       "      <th>duration</th>\n",
       "      <th>frames_collected_opencv</th>\n",
       "      <th>frames_reported_opencv</th>\n",
       "      <th>frames_reported_decord</th>\n",
       "    </tr>\n",
       "  </thead>\n",
       "  <tbody>\n",
       "    <tr>\n",
       "      <th>0</th>\n",
       "      <td>67OIlq2oMt0</td>\n",
       "      <td>https://youtu.be/67OIlq2oMt0</td>\n",
       "      <td>Hawaiian Islands Humpback Whale National Marin...</td>\n",
       "      <td>creativeCommon</td>\n",
       "      <td>True</td>\n",
       "      <td>video_0000.mp4</td>\n",
       "      <td>10</td>\n",
       "      <td>25</td>\n",
       "      <td>266.0</td>\n",
       "      <td>361.0</td>\n",
       "      <td>473.0</td>\n",
       "      <td>473.0</td>\n",
       "    </tr>\n",
       "    <tr>\n",
       "      <th>1</th>\n",
       "      <td>EUcMuUBMYJc</td>\n",
       "      <td>https://youtu.be/EUcMuUBMYJc</td>\n",
       "      <td>Tagging expedition: revealing the delicate nur...</td>\n",
       "      <td>creativeCommon</td>\n",
       "      <td>True</td>\n",
       "      <td>video_0001.mp4</td>\n",
       "      <td>44</td>\n",
       "      <td>59</td>\n",
       "      <td>269.0</td>\n",
       "      <td>360.0</td>\n",
       "      <td>441.0</td>\n",
       "      <td>441.0</td>\n",
       "    </tr>\n",
       "    <tr>\n",
       "      <th>2</th>\n",
       "      <td>dpSuygz7ZmA</td>\n",
       "      <td>https://youtu.be/dpSuygz7ZmA</td>\n",
       "      <td>Your Earth Is Blue: Disentangling a Humpback W...</td>\n",
       "      <td>creativeCommon</td>\n",
       "      <td>True</td>\n",
       "      <td>video_0002.mp4</td>\n",
       "      <td>5</td>\n",
       "      <td>20</td>\n",
       "      <td>102.0</td>\n",
       "      <td>361.0</td>\n",
       "      <td>398.0</td>\n",
       "      <td>398.0</td>\n",
       "    </tr>\n",
       "  </tbody>\n",
       "</table>\n",
       "</div>"
      ],
      "text/plain": [
       "      video_id                           url  \\\n",
       "0  67OIlq2oMt0  https://youtu.be/67OIlq2oMt0   \n",
       "1  EUcMuUBMYJc  https://youtu.be/EUcMuUBMYJc   \n",
       "2  dpSuygz7ZmA  https://youtu.be/dpSuygz7ZmA   \n",
       "\n",
       "                                               title         license  \\\n",
       "0  Hawaiian Islands Humpback Whale National Marin...  creativeCommon   \n",
       "1  Tagging expedition: revealing the delicate nur...  creativeCommon   \n",
       "2  Your Earth Is Blue: Disentangling a Humpback W...  creativeCommon   \n",
       "\n",
       "   relevant   renamed_title  clip_start  clip_end  duration  \\\n",
       "0      True  video_0000.mp4          10        25     266.0   \n",
       "1      True  video_0001.mp4          44        59     269.0   \n",
       "2      True  video_0002.mp4           5        20     102.0   \n",
       "\n",
       "   frames_collected_opencv  frames_reported_opencv  frames_reported_decord  \n",
       "0                    361.0                   473.0                   473.0  \n",
       "1                    360.0                   441.0                   441.0  \n",
       "2                    361.0                   398.0                   398.0  "
      ]
     },
     "execution_count": 160,
     "metadata": {},
     "output_type": "execute_result"
    }
   ],
   "source": [
    "downloads_df.head(3)"
   ]
  },
  {
   "cell_type": "code",
   "execution_count": 133,
   "id": "7f5094d2",
   "metadata": {},
   "outputs": [],
   "source": [
    "#trying out getting video frames for one video\n",
    "actual, reported = get_video_frames('video_clip_0002.mp4', max_frames=461, context=cpu(0), resize=(224, 224))"
   ]
  },
  {
   "cell_type": "code",
   "execution_count": 4,
   "id": "57723709",
   "metadata": {},
   "outputs": [
    {
     "name": "stdout",
     "output_type": "stream",
     "text": [
      "363\n",
      "Done checking frames\n",
      "461 461\n"
     ]
    }
   ],
   "source": [
    "#getting video frames for multiple videos\n",
    "for i, row in downloads_df.iterrows(): \n",
    "    clip = row['renamed_title'].replace('_', '_clip_')\n",
    "    \n",
    "    #extract and save frames as .jpg files in frame folder \n",
    "    actual, reported = get_video_frames(clip, max_frames=461, context=cpu(0), resize=(224, 224))\n",
    "    \n",
    "    #store frame count metrics for bookkeeping\n",
    "    downloads_df.at[i, ('frames_collected_decord')] = actual\n",
    "    downloads_df.at[i, ('frames_reported_decord')] = reported\n",
    "\n",
    "print('Done saving frames.')"
   ]
  },
  {
   "cell_type": "markdown",
   "id": "35b84d83",
   "metadata": {},
   "source": [
    "# Testing Out Multinode Processing for Downloading Frames\n",
    "\n",
    "Source: https://medium.com/@haydenfaulkner/extracting-frames-fast-from-a-video-using-opencv-and-python-73b9b7dc9661"
   ]
  },
  {
   "cell_type": "code",
   "execution_count": 159,
   "id": "ec64f469",
   "metadata": {},
   "outputs": [
    {
     "name": "stdout",
     "output_type": "stream",
     "text": [
      "There are 80 CPUs on this machine \n"
     ]
    }
   ],
   "source": [
    "import sys, os\n",
    "from multiprocessing import Pool, cpu_count\n",
    "from functools import partial\n",
    "import cv2\n",
    "import matplotlib.pyplot as plt\n",
    "\n",
    "def get_video_frames(video_title, max_frames, context=cpu(0), resize=(224,224)):\n",
    "    ''' Get individual image frames from video '''\n",
    "    \n",
    "    #get clip number for frame naming\n",
    "    clip_number = video_title.split('_')[2].split('.')[0]\n",
    "    \n",
    "    #read video\n",
    "    vr = VideoReader(workspace_path + '/video_clips/' + video_title, ctx=context, width=resize[0], height=resize[1])\n",
    "    \n",
    "    #get batch of frames that matches amount needed\n",
    "    frame_indices = [i for i in range(len(vr))]\n",
    "\n",
    "    #save frames as jpg images \n",
    "    for i in frame_indices:\n",
    "        frame = vr[i].asnumpy()\n",
    "        frame = cv2.resize(frame, resize)\n",
    "        \n",
    "        #reorder color channels (will leave out for now)\n",
    "        #frame = frame[:, :, [2, 1, 0]] \n",
    "        \n",
    "        #save frame image in directory\n",
    "        plt.imsave(workspace_path + \"/frames/\" + \"/clip_%s_frame_%d.jpg\" % (clip_number, i), frame)\n",
    "    \n",
    "    \n",
    "    #return frame numbers to double check functionality\n",
    "    num_frames_collected = len(frame_indices)\n",
    "    num_total_frames = len(vr)\n",
    "    \n",
    "    return num_frames_collected, num_total_frames\n",
    "\n",
    "#having frame extraction run in parallel\n",
    "video_titles = list(downloads_df.renamed_title)[0:5]  \n",
    "clip_titles = [video.replace('_', '_clip_') for video in video_titles]\n",
    "\n",
    "print(\"There are {} CPUs on this machine \".format(cpu_count()))\n",
    "\n",
    "\n",
    "pool = Pool(cpu_count())\n",
    "\n",
    "download_frames_func = partial(get_video_frames, max_frames = 461, resize=(224,224))\n",
    "results = pool.map(download_frames_func, clip_titles)\n",
    "\n",
    "#terminate worker processes now that parallelizable portion is finished\n",
    "pool.close()\n",
    "\n",
    "# wait for the worker processes to terminate.\n",
    "pool.join()"
   ]
  },
  {
   "cell_type": "markdown",
   "id": "6f24264f",
   "metadata": {},
   "source": [
    "# Decord Key Indices"
   ]
  },
  {
   "cell_type": "code",
   "execution_count": 131,
   "id": "72fdd0fa",
   "metadata": {},
   "outputs": [
    {
     "data": {
      "text/plain": [
       "[0, 45, 165, 173, 221, 301, 374]"
      ]
     },
     "execution_count": 131,
     "metadata": {},
     "output_type": "execute_result"
    }
   ],
   "source": [
    "#read video + get key indices + frames\n",
    "# from decord import VideoReader\n",
    "# vr = VideoReader(workspace_path + '/video_clips/video_clip_0002.mp4', ctx=cpu(0), width=224, height=224)\n",
    "# key_indices = vr.get_key_indices()\n",
    "# key_frames =  vr.get_batch(key_indices)\n",
    "# key_indices"
   ]
  },
  {
   "cell_type": "markdown",
   "id": "8ab21356",
   "metadata": {},
   "source": [
    "# Save Changes to Downloads DF"
   ]
  },
  {
   "cell_type": "code",
   "execution_count": 118,
   "id": "404048da",
   "metadata": {},
   "outputs": [],
   "source": [
    "# update csv with frame counts (actual + reported)\n",
    "downloads_df.to_csv(workspace_path + '/downloaded_videos.csv', index=False)\n",
    "downloads_df.to_csv('/workspace/youtube-humpback-whale-classifier/data/downloaded_videos.csv', index=False)"
   ]
  }
 ],
 "metadata": {
  "kernelspec": {
   "display_name": "Python 3 (ipykernel)",
   "language": "python",
   "name": "python3"
  },
  "language_info": {
   "codemirror_mode": {
    "name": "ipython",
    "version": 3
   },
   "file_extension": ".py",
   "mimetype": "text/x-python",
   "name": "python",
   "nbconvert_exporter": "python",
   "pygments_lexer": "ipython3",
   "version": "3.8.10"
  }
 },
 "nbformat": 4,
 "nbformat_minor": 5
}
