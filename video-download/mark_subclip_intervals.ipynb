{
 "cells": [
  {
   "cell_type": "markdown",
   "id": "7b36d8d6",
   "metadata": {},
   "source": [
    "# Mark Subclip Intervals\n",
    "\n",
    "This notebook is used to (manually) identify and document a 15-second interval in relevant videos where a humpback whale encounter is evident. \n",
    "\n",
    "We repeat a similar process for irrelevant videos, replacing manual interval annotation with a randomly generated 15-second interval. \n",
    "\n",
    "The 15-second intervals annotated here will serve as input for training our model. "
   ]
  },
  {
   "cell_type": "code",
   "execution_count": 20,
   "id": "fbe1ed3e",
   "metadata": {},
   "outputs": [],
   "source": [
    "import pandas as pd\n",
    "import numpy as np"
   ]
  },
  {
   "cell_type": "code",
   "execution_count": 69,
   "id": "dfe8021c",
   "metadata": {},
   "outputs": [
    {
     "data": {
      "text/html": [
       "<div>\n",
       "<style scoped>\n",
       "    .dataframe tbody tr th:only-of-type {\n",
       "        vertical-align: middle;\n",
       "    }\n",
       "\n",
       "    .dataframe tbody tr th {\n",
       "        vertical-align: top;\n",
       "    }\n",
       "\n",
       "    .dataframe thead th {\n",
       "        text-align: right;\n",
       "    }\n",
       "</style>\n",
       "<table border=\"1\" class=\"dataframe\">\n",
       "  <thead>\n",
       "    <tr style=\"text-align: right;\">\n",
       "      <th></th>\n",
       "      <th>video_id</th>\n",
       "      <th>url</th>\n",
       "      <th>title</th>\n",
       "      <th>license</th>\n",
       "      <th>relevant</th>\n",
       "      <th>renamed_title</th>\n",
       "      <th>clip_start</th>\n",
       "      <th>clip_end</th>\n",
       "    </tr>\n",
       "  </thead>\n",
       "  <tbody>\n",
       "    <tr>\n",
       "      <th>0</th>\n",
       "      <td>67OIlq2oMt0</td>\n",
       "      <td>https://youtu.be/67OIlq2oMt0</td>\n",
       "      <td>Hawaiian Islands Humpback Whale National Marin...</td>\n",
       "      <td>creativeCommon</td>\n",
       "      <td>True</td>\n",
       "      <td>video_0000.mp4</td>\n",
       "      <td>0:10</td>\n",
       "      <td>0:25</td>\n",
       "    </tr>\n",
       "    <tr>\n",
       "      <th>1</th>\n",
       "      <td>EUcMuUBMYJc</td>\n",
       "      <td>https://youtu.be/EUcMuUBMYJc</td>\n",
       "      <td>Tagging expedition: revealing the delicate nur...</td>\n",
       "      <td>creativeCommon</td>\n",
       "      <td>True</td>\n",
       "      <td>video_0001.mp4</td>\n",
       "      <td>0:44</td>\n",
       "      <td>0:59</td>\n",
       "    </tr>\n",
       "    <tr>\n",
       "      <th>2</th>\n",
       "      <td>dpSuygz7ZmA</td>\n",
       "      <td>https://youtu.be/dpSuygz7ZmA</td>\n",
       "      <td>Your Earth Is Blue: Disentangling a Humpback W...</td>\n",
       "      <td>creativeCommon</td>\n",
       "      <td>True</td>\n",
       "      <td>video_0002.mp4</td>\n",
       "      <td>0:05</td>\n",
       "      <td>0:20</td>\n",
       "    </tr>\n",
       "    <tr>\n",
       "      <th>3</th>\n",
       "      <td>jfPzlFLEuKk</td>\n",
       "      <td>https://youtu.be/jfPzlFLEuKk</td>\n",
       "      <td>Humpback Whale || Description, Characteristics...</td>\n",
       "      <td>creativeCommon</td>\n",
       "      <td>True</td>\n",
       "      <td>video_0003.mp4</td>\n",
       "      <td>2:40</td>\n",
       "      <td>2:55</td>\n",
       "    </tr>\n",
       "    <tr>\n",
       "      <th>4</th>\n",
       "      <td>xGasapMoy4I</td>\n",
       "      <td>https://youtu.be/xGasapMoy4I</td>\n",
       "      <td>Your Earth Is Blue: Humpback Whales</td>\n",
       "      <td>creativeCommon</td>\n",
       "      <td>True</td>\n",
       "      <td>video_0004.mp4</td>\n",
       "      <td>0:00</td>\n",
       "      <td>0:15</td>\n",
       "    </tr>\n",
       "  </tbody>\n",
       "</table>\n",
       "</div>"
      ],
      "text/plain": [
       "      video_id                           url  \\\n",
       "0  67OIlq2oMt0  https://youtu.be/67OIlq2oMt0   \n",
       "1  EUcMuUBMYJc  https://youtu.be/EUcMuUBMYJc   \n",
       "2  dpSuygz7ZmA  https://youtu.be/dpSuygz7ZmA   \n",
       "3  jfPzlFLEuKk  https://youtu.be/jfPzlFLEuKk   \n",
       "4  xGasapMoy4I  https://youtu.be/xGasapMoy4I   \n",
       "\n",
       "                                               title         license  \\\n",
       "0  Hawaiian Islands Humpback Whale National Marin...  creativeCommon   \n",
       "1  Tagging expedition: revealing the delicate nur...  creativeCommon   \n",
       "2  Your Earth Is Blue: Disentangling a Humpback W...  creativeCommon   \n",
       "3  Humpback Whale || Description, Characteristics...  creativeCommon   \n",
       "4                Your Earth Is Blue: Humpback Whales  creativeCommon   \n",
       "\n",
       "   relevant   renamed_title clip_start clip_end  \n",
       "0      True  video_0000.mp4       0:10     0:25  \n",
       "1      True  video_0001.mp4       0:44     0:59  \n",
       "2      True  video_0002.mp4       0:05     0:20  \n",
       "3      True  video_0003.mp4       2:40     2:55  \n",
       "4      True  video_0004.mp4       0:00     0:15  "
      ]
     },
     "execution_count": 69,
     "metadata": {},
     "output_type": "execute_result"
    }
   ],
   "source": [
    "#load df of successful video downloads\n",
    "workspace_path = '/mount/data'\n",
    "downloads_df = pd.read_csv(workspace_path + '/downloaded_videos.csv')\n",
    "downloads_df.head()"
   ]
  },
  {
   "cell_type": "markdown",
   "id": "6df14177",
   "metadata": {},
   "source": [
    "# Add a Column to Store Clip Interval \n",
    "(only run this once)"
   ]
  },
  {
   "cell_type": "code",
   "execution_count": 33,
   "id": "6e813c36",
   "metadata": {},
   "outputs": [
    {
     "data": {
      "text/html": [
       "<div>\n",
       "<style scoped>\n",
       "    .dataframe tbody tr th:only-of-type {\n",
       "        vertical-align: middle;\n",
       "    }\n",
       "\n",
       "    .dataframe tbody tr th {\n",
       "        vertical-align: top;\n",
       "    }\n",
       "\n",
       "    .dataframe thead th {\n",
       "        text-align: right;\n",
       "    }\n",
       "</style>\n",
       "<table border=\"1\" class=\"dataframe\">\n",
       "  <thead>\n",
       "    <tr style=\"text-align: right;\">\n",
       "      <th></th>\n",
       "      <th>video_id</th>\n",
       "      <th>url</th>\n",
       "      <th>title</th>\n",
       "      <th>license</th>\n",
       "      <th>relevant</th>\n",
       "      <th>renamed_title</th>\n",
       "      <th>clip_start</th>\n",
       "      <th>clip_end</th>\n",
       "    </tr>\n",
       "  </thead>\n",
       "  <tbody>\n",
       "    <tr>\n",
       "      <th>0</th>\n",
       "      <td>67OIlq2oMt0</td>\n",
       "      <td>https://youtu.be/67OIlq2oMt0</td>\n",
       "      <td>Hawaiian Islands Humpback Whale National Marin...</td>\n",
       "      <td>creativeCommon</td>\n",
       "      <td>True</td>\n",
       "      <td>video_0000.mp4</td>\n",
       "      <td></td>\n",
       "      <td></td>\n",
       "    </tr>\n",
       "    <tr>\n",
       "      <th>1</th>\n",
       "      <td>EUcMuUBMYJc</td>\n",
       "      <td>https://youtu.be/EUcMuUBMYJc</td>\n",
       "      <td>Tagging expedition: revealing the delicate nur...</td>\n",
       "      <td>creativeCommon</td>\n",
       "      <td>True</td>\n",
       "      <td>video_0001.mp4</td>\n",
       "      <td></td>\n",
       "      <td></td>\n",
       "    </tr>\n",
       "    <tr>\n",
       "      <th>2</th>\n",
       "      <td>dpSuygz7ZmA</td>\n",
       "      <td>https://youtu.be/dpSuygz7ZmA</td>\n",
       "      <td>Your Earth Is Blue: Disentangling a Humpback W...</td>\n",
       "      <td>creativeCommon</td>\n",
       "      <td>True</td>\n",
       "      <td>video_0002.mp4</td>\n",
       "      <td></td>\n",
       "      <td></td>\n",
       "    </tr>\n",
       "    <tr>\n",
       "      <th>3</th>\n",
       "      <td>jfPzlFLEuKk</td>\n",
       "      <td>https://youtu.be/jfPzlFLEuKk</td>\n",
       "      <td>Humpback Whale || Description, Characteristics...</td>\n",
       "      <td>creativeCommon</td>\n",
       "      <td>True</td>\n",
       "      <td>video_0003.mp4</td>\n",
       "      <td></td>\n",
       "      <td></td>\n",
       "    </tr>\n",
       "    <tr>\n",
       "      <th>4</th>\n",
       "      <td>xGasapMoy4I</td>\n",
       "      <td>https://youtu.be/xGasapMoy4I</td>\n",
       "      <td>Your Earth Is Blue: Humpback Whales</td>\n",
       "      <td>creativeCommon</td>\n",
       "      <td>True</td>\n",
       "      <td>video_0004.mp4</td>\n",
       "      <td></td>\n",
       "      <td></td>\n",
       "    </tr>\n",
       "  </tbody>\n",
       "</table>\n",
       "</div>"
      ],
      "text/plain": [
       "      video_id                           url  \\\n",
       "0  67OIlq2oMt0  https://youtu.be/67OIlq2oMt0   \n",
       "1  EUcMuUBMYJc  https://youtu.be/EUcMuUBMYJc   \n",
       "2  dpSuygz7ZmA  https://youtu.be/dpSuygz7ZmA   \n",
       "3  jfPzlFLEuKk  https://youtu.be/jfPzlFLEuKk   \n",
       "4  xGasapMoy4I  https://youtu.be/xGasapMoy4I   \n",
       "\n",
       "                                               title         license  \\\n",
       "0  Hawaiian Islands Humpback Whale National Marin...  creativeCommon   \n",
       "1  Tagging expedition: revealing the delicate nur...  creativeCommon   \n",
       "2  Your Earth Is Blue: Disentangling a Humpback W...  creativeCommon   \n",
       "3  Humpback Whale || Description, Characteristics...  creativeCommon   \n",
       "4                Your Earth Is Blue: Humpback Whales  creativeCommon   \n",
       "\n",
       "   relevant   renamed_title clip_start clip_end  \n",
       "0      True  video_0000.mp4                      \n",
       "1      True  video_0001.mp4                      \n",
       "2      True  video_0002.mp4                      \n",
       "3      True  video_0003.mp4                      \n",
       "4      True  video_0004.mp4                      "
      ]
     },
     "execution_count": 33,
     "metadata": {},
     "output_type": "execute_result"
    }
   ],
   "source": [
    "# downloads_df['clip_start'] = [''for i in range(0, len(downloads_df))]\n",
    "# downloads_df['clip_end'] = ['' for i in range(0, len(downloads_df))]\n",
    "\n",
    "# downloads_df.head()"
   ]
  },
  {
   "cell_type": "markdown",
   "id": "3ec43dd5",
   "metadata": {},
   "source": [
    "# Relevant Subclip Annotation"
   ]
  },
  {
   "cell_type": "code",
   "execution_count": 22,
   "id": "80d4bf29",
   "metadata": {},
   "outputs": [],
   "source": [
    "#functions to double check relevance of each new potential video\n",
    "from IPython.display import YouTubeVideo, Image, display, Video, HTML\n",
    "\n",
    "def display_video(index, video_title, url):\n",
    "    # display video - need to pass in videoID (at end of url) \n",
    "    print(\"{}: {}\".format(index, video_title))\n",
    "    print(url)\n",
    "    videoID = url.split('/')[3]\n",
    "    display(YouTubeVideo(videoID))\n",
    "\n",
    "def get_occurence_intervals():\n",
    "    '''allows user to enter occurence interval start + end time'''\n",
    "\n",
    "    start = input('Clip Start Time: ')\n",
    "    end = input('Clip End Time:   ')\n",
    "\n",
    "    return start, end"
   ]
  },
  {
   "cell_type": "code",
   "execution_count": 123,
   "id": "f2f4aa64",
   "metadata": {},
   "outputs": [
    {
     "name": "stdout",
     "output_type": "stream",
     "text": [
      "How many videos do you want to annotate?: "
     ]
    },
    {
     "name": "stdin",
     "output_type": "stream",
     "text": [
      " 1\n"
     ]
    },
    {
     "name": "stdout",
     "output_type": "stream",
     "text": [
      "52: video_0065.mp4\n",
      "https://youtu.be/taNLnQg_x5E\n"
     ]
    },
    {
     "data": {
      "image/jpeg": "[encoded data removed]",
      "text/html": [
       "\n",
       "        <iframe\n",
       "            width=\"400\"\n",
       "            height=\"300\"\n",
       "            src=\"https://www.youtube.com/embed/taNLnQg_x5E\"\n",
       "            frameborder=\"0\"\n",
       "            allowfullscreen\n",
       "            \n",
       "        ></iframe>\n",
       "        "
      ],
      "text/plain": [
       "<IPython.lib.display.YouTubeVideo at 0x7fd058c79fa0>"
      ]
     },
     "metadata": {},
     "output_type": "display_data"
    },
    {
     "name": "stdin",
     "output_type": "stream",
     "text": [
      "Clip Start Time:  0:02\n",
      "Clip End Time:    0:17\n"
     ]
    },
    {
     "name": "stdout",
     "output_type": "stream",
     "text": [
      "Done annotating videos 52 to 52 \n",
      "\n"
     ]
    }
   ],
   "source": [
    "#loop through relevant videos and annotate whale encounter intervals\n",
    "print('How many videos do you want to annotate?:', end = \" \")\n",
    "num_videos = int(input())\n",
    "\n",
    "#pickup on the next relevant video w/o a clip interval\n",
    "video_indices_to_annotate = list(downloads_df[(downloads_df.clip_start.isna()) & (downloads_df.relevant == True)].index)\n",
    "\n",
    "#annotate clip intervals and record in dataset\n",
    "for i in video_indices_to_annotate[:num_videos]:\n",
    "    row = downloads_df.loc[i]\n",
    "    display_video(i, row['renamed_title'], row['url'])\n",
    "    clip_start, clip_end = get_occurence_intervals()\n",
    "    downloads_df.at[i, ('clip_start')] = clip_start\n",
    "    downloads_df.at[i, ('clip_end')] = clip_end   \n",
    "    \n",
    "print(f'Done annotating videos {video_indices_to_annotate[0]} to {video_indices_to_annotate[num_videos-1]} \\n')"
   ]
  },
  {
   "cell_type": "code",
   "execution_count": 124,
   "id": "88332cc6",
   "metadata": {},
   "outputs": [
    {
     "data": {
      "text/html": [
       "<div>\n",
       "<style scoped>\n",
       "    .dataframe tbody tr th:only-of-type {\n",
       "        vertical-align: middle;\n",
       "    }\n",
       "\n",
       "    .dataframe tbody tr th {\n",
       "        vertical-align: top;\n",
       "    }\n",
       "\n",
       "    .dataframe thead th {\n",
       "        text-align: right;\n",
       "    }\n",
       "</style>\n",
       "<table border=\"1\" class=\"dataframe\">\n",
       "  <thead>\n",
       "    <tr style=\"text-align: right;\">\n",
       "      <th></th>\n",
       "      <th>video_id</th>\n",
       "      <th>url</th>\n",
       "      <th>title</th>\n",
       "      <th>license</th>\n",
       "      <th>relevant</th>\n",
       "      <th>renamed_title</th>\n",
       "      <th>clip_start</th>\n",
       "      <th>clip_end</th>\n",
       "    </tr>\n",
       "  </thead>\n",
       "  <tbody>\n",
       "    <tr>\n",
       "      <th>49</th>\n",
       "      <td>AOF_BMnslF4</td>\n",
       "      <td>https://youtu.be/AOF_BMnslF4</td>\n",
       "      <td>Three humpback whales heading north, cape sola...</td>\n",
       "      <td>creativeCommon</td>\n",
       "      <td>True</td>\n",
       "      <td>video_0058.mp4</td>\n",
       "      <td>0:00</td>\n",
       "      <td>0:15</td>\n",
       "    </tr>\n",
       "    <tr>\n",
       "      <th>50</th>\n",
       "      <td>SDOq6WIwNDs</td>\n",
       "      <td>https://youtu.be/SDOq6WIwNDs</td>\n",
       "      <td>Ballenas Jorobadas (Humpback Whales)</td>\n",
       "      <td>creativeCommon</td>\n",
       "      <td>True</td>\n",
       "      <td>video_0060.mp4</td>\n",
       "      <td>0:10</td>\n",
       "      <td>0:25</td>\n",
       "    </tr>\n",
       "    <tr>\n",
       "      <th>51</th>\n",
       "      <td>5PQTvJM4VS4</td>\n",
       "      <td>https://youtu.be/5PQTvJM4VS4</td>\n",
       "      <td>A humpback whale was found dead on a beach in ...</td>\n",
       "      <td>creativeCommon</td>\n",
       "      <td>True</td>\n",
       "      <td>video_0061.mp4</td>\n",
       "      <td>0:00</td>\n",
       "      <td>0:15</td>\n",
       "    </tr>\n",
       "    <tr>\n",
       "      <th>52</th>\n",
       "      <td>taNLnQg_x5E</td>\n",
       "      <td>https://youtu.be/taNLnQg_x5E</td>\n",
       "      <td>😍 𝗕𝗲𝘀𝘁 𝗪𝗵𝗮𝗹𝗲 𝗪𝗮𝘁𝗰𝗵𝗶𝗻𝗴 𝗩𝗶𝗱𝗲𝗼  2⃝  😲 | Bʟᴜᴇ Wʜᴀʟ...</td>\n",
       "      <td>creativeCommon</td>\n",
       "      <td>True</td>\n",
       "      <td>video_0065.mp4</td>\n",
       "      <td>0:02</td>\n",
       "      <td>0:17</td>\n",
       "    </tr>\n",
       "  </tbody>\n",
       "</table>\n",
       "</div>"
      ],
      "text/plain": [
       "       video_id                           url  \\\n",
       "49  AOF_BMnslF4  https://youtu.be/AOF_BMnslF4   \n",
       "50  SDOq6WIwNDs  https://youtu.be/SDOq6WIwNDs   \n",
       "51  5PQTvJM4VS4  https://youtu.be/5PQTvJM4VS4   \n",
       "52  taNLnQg_x5E  https://youtu.be/taNLnQg_x5E   \n",
       "\n",
       "                                                title         license  \\\n",
       "49  Three humpback whales heading north, cape sola...  creativeCommon   \n",
       "50               Ballenas Jorobadas (Humpback Whales)  creativeCommon   \n",
       "51  A humpback whale was found dead on a beach in ...  creativeCommon   \n",
       "52  😍 𝗕𝗲𝘀𝘁 𝗪𝗵𝗮𝗹𝗲 𝗪𝗮𝘁𝗰𝗵𝗶𝗻𝗴 𝗩𝗶𝗱𝗲𝗼  2⃝  😲 | Bʟᴜᴇ Wʜᴀʟ...  creativeCommon   \n",
       "\n",
       "    relevant   renamed_title clip_start clip_end  \n",
       "49      True  video_0058.mp4       0:00     0:15  \n",
       "50      True  video_0060.mp4       0:10     0:25  \n",
       "51      True  video_0061.mp4       0:00     0:15  \n",
       "52      True  video_0065.mp4       0:02     0:17  "
      ]
     },
     "execution_count": 124,
     "metadata": {},
     "output_type": "execute_result"
    }
   ],
   "source": [
    "#checking updates\n",
    "downloads_df[(downloads_df.clip_start.notna()) & (downloads_df.relevant == True)][-4:]"
   ]
  },
  {
   "cell_type": "code",
   "execution_count": 125,
   "id": "9a87f86c",
   "metadata": {},
   "outputs": [
    {
     "name": "stdout",
     "output_type": "stream",
     "text": [
      "144 more relevant videos to annotate\n"
     ]
    }
   ],
   "source": [
    "print(len(downloads_df[(downloads_df.clip_start.isna()) & (downloads_df.relevant == True)]), 'more relevant videos to annotate')"
   ]
  },
  {
   "cell_type": "markdown",
   "id": "0451cd29",
   "metadata": {},
   "source": [
    "# Save Changes"
   ]
  },
  {
   "cell_type": "code",
   "execution_count": 126,
   "id": "ad0e1efa",
   "metadata": {},
   "outputs": [],
   "source": [
    "# update csv with annotated intervals\n",
    "downloads_df.to_csv(workspace_path + '/downloaded_videos.csv', index=False)\n",
    "downloads_df.to_csv('/workspace/youtube-humpback-whale-classifier/data/downloaded_videos.csv', index=False)"
   ]
  }
 ],
 "metadata": {
  "kernelspec": {
   "display_name": "Python 3 (ipykernel)",
   "language": "python",
   "name": "python3"
  },
  "language_info": {
   "codemirror_mode": {
    "name": "ipython",
    "version": 3
   },
   "file_extension": ".py",
   "mimetype": "text/x-python",
   "name": "python",
   "nbconvert_exporter": "python",
   "pygments_lexer": "ipython3",
   "version": "3.8.10"
  }
 },
 "nbformat": 4,
 "nbformat_minor": 5
}
