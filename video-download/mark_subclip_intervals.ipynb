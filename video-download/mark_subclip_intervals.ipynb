{
 "cells": [
  {
   "cell_type": "markdown",
   "id": "7906a81c",
   "metadata": {},
   "source": [
    "# Mark Subclip Intervals\n",
    "\n",
    "This notebook is used to (manually) identify and document a 15-second interval in relevant videos where a humpback whale encounter is evident. \n",
    "\n",
    "We repeat a similar process for irrelevant videos, replacing manual interval annotation with a randomly generated 15-second interval. \n",
    "\n",
    "The 15-second intervals annotated here will serve as input for training our model. "
   ]
  },
  {
   "cell_type": "code",
   "execution_count": null,
   "id": "0937abe5",
   "metadata": {},
   "outputs": [],
   "source": []
  }
 ],
 "metadata": {
  "kernelspec": {
   "display_name": "Python 3 (ipykernel)",
   "language": "python",
   "name": "python3"
  },
  "language_info": {
   "codemirror_mode": {
    "name": "ipython",
    "version": 3
   },
   "file_extension": ".py",
   "mimetype": "text/x-python",
   "name": "python",
   "nbconvert_exporter": "python",
   "pygments_lexer": "ipython3",
   "version": "3.8.10"
  }
 },
 "nbformat": 4,
 "nbformat_minor": 5
}
