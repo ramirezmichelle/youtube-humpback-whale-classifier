{
 "cells": [
  {
   "cell_type": "code",
   "execution_count": 1,
   "metadata": {},
   "outputs": [],
   "source": [
    "from pytube import YouTube\n",
    "import pandas as pd\n",
    "import time"
   ]
  },
  {
   "cell_type": "code",
   "execution_count": 2,
   "metadata": {},
   "outputs": [
    {
     "data": {
      "text/html": [
       "<div>\n",
       "<style scoped>\n",
       "    .dataframe tbody tr th:only-of-type {\n",
       "        vertical-align: middle;\n",
       "    }\n",
       "\n",
       "    .dataframe tbody tr th {\n",
       "        vertical-align: top;\n",
       "    }\n",
       "\n",
       "    .dataframe thead th {\n",
       "        text-align: right;\n",
       "    }\n",
       "</style>\n",
       "<table border=\"1\" class=\"dataframe\">\n",
       "  <thead>\n",
       "    <tr style=\"text-align: right;\">\n",
       "      <th></th>\n",
       "      <th>video_id</th>\n",
       "      <th>url</th>\n",
       "      <th>title</th>\n",
       "      <th>license</th>\n",
       "      <th>relevant</th>\n",
       "      <th>renamed_title</th>\n",
       "    </tr>\n",
       "  </thead>\n",
       "  <tbody>\n",
       "    <tr>\n",
       "      <th>0</th>\n",
       "      <td>67OIlq2oMt0</td>\n",
       "      <td>https://youtu.be/67OIlq2oMt0</td>\n",
       "      <td>Hawaiian Islands Humpback Whale National Marin...</td>\n",
       "      <td>creativeCommon</td>\n",
       "      <td>True</td>\n",
       "      <td>video_0000.mp4</td>\n",
       "    </tr>\n",
       "    <tr>\n",
       "      <th>1</th>\n",
       "      <td>EUcMuUBMYJc</td>\n",
       "      <td>https://youtu.be/EUcMuUBMYJc</td>\n",
       "      <td>Tagging expedition: revealing the delicate nur...</td>\n",
       "      <td>creativeCommon</td>\n",
       "      <td>True</td>\n",
       "      <td>video_0001.mp4</td>\n",
       "    </tr>\n",
       "    <tr>\n",
       "      <th>2</th>\n",
       "      <td>dpSuygz7ZmA</td>\n",
       "      <td>https://youtu.be/dpSuygz7ZmA</td>\n",
       "      <td>Your Earth Is Blue: Disentangling a Humpback W...</td>\n",
       "      <td>creativeCommon</td>\n",
       "      <td>True</td>\n",
       "      <td>video_0002.mp4</td>\n",
       "    </tr>\n",
       "    <tr>\n",
       "      <th>3</th>\n",
       "      <td>jfPzlFLEuKk</td>\n",
       "      <td>https://youtu.be/jfPzlFLEuKk</td>\n",
       "      <td>Humpback Whale || Description, Characteristics...</td>\n",
       "      <td>creativeCommon</td>\n",
       "      <td>True</td>\n",
       "      <td>video_0003.mp4</td>\n",
       "    </tr>\n",
       "    <tr>\n",
       "      <th>4</th>\n",
       "      <td>xGasapMoy4I</td>\n",
       "      <td>https://youtu.be/xGasapMoy4I</td>\n",
       "      <td>Your Earth Is Blue: Humpback Whales</td>\n",
       "      <td>creativeCommon</td>\n",
       "      <td>True</td>\n",
       "      <td>video_0004.mp4</td>\n",
       "    </tr>\n",
       "  </tbody>\n",
       "</table>\n",
       "</div>"
      ],
      "text/plain": [
       "      video_id                           url  \\\n",
       "0  67OIlq2oMt0  https://youtu.be/67OIlq2oMt0   \n",
       "1  EUcMuUBMYJc  https://youtu.be/EUcMuUBMYJc   \n",
       "2  dpSuygz7ZmA  https://youtu.be/dpSuygz7ZmA   \n",
       "3  jfPzlFLEuKk  https://youtu.be/jfPzlFLEuKk   \n",
       "4  xGasapMoy4I  https://youtu.be/xGasapMoy4I   \n",
       "\n",
       "                                               title         license  \\\n",
       "0  Hawaiian Islands Humpback Whale National Marin...  creativeCommon   \n",
       "1  Tagging expedition: revealing the delicate nur...  creativeCommon   \n",
       "2  Your Earth Is Blue: Disentangling a Humpback W...  creativeCommon   \n",
       "3  Humpback Whale || Description, Characteristics...  creativeCommon   \n",
       "4                Your Earth Is Blue: Humpback Whales  creativeCommon   \n",
       "\n",
       "   relevant   renamed_title  \n",
       "0      True  video_0000.mp4  \n",
       "1      True  video_0001.mp4  \n",
       "2      True  video_0002.mp4  \n",
       "3      True  video_0003.mp4  \n",
       "4      True  video_0004.mp4  "
      ]
     },
     "execution_count": 2,
     "metadata": {},
     "output_type": "execute_result"
    }
   ],
   "source": [
    "#download the videos from our sub_hw_df into our directory\n",
    "\n",
    "DOWNLOAD_PATH = \"/Users/micheller/Documents/nvidia-intern-project/data/videos/\"\n",
    "url_dataset = pd.read_csv('/Users/micheller/Documents/nvidia-intern-project/data/creative_commons_youtube_videos.csv')\n",
    "num_unavailable = 0\n",
    "\n",
    "url_dataset.head()"
   ]
  },
  {
   "cell_type": "code",
   "execution_count": 4,
   "metadata": {},
   "outputs": [
    {
     "name": "stdout",
     "output_type": "stream",
     "text": [
      "Video video_0000.mp4 at url https://youtu.be/67OIlq2oMt0 unavailable...skipping\n",
      "Video video_0001.mp4 at url https://youtu.be/EUcMuUBMYJc unavailable...skipping\n"
     ]
    }
   ],
   "source": [
    "for index, row in url_dataset[0:5].iterrows():\n",
    "    try:\n",
    "        #get video item and check availability\n",
    "        video = YouTube(row['url'])\n",
    "        video.check_availability() \n",
    "\n",
    "        #download the actual video mp4 with highest res available\n",
    "        video_name = row['renamed_title']\n",
    "        highest_res_video = video.streams.filter(file_extension=\"mp4\").order_by('resolution').last() \n",
    "        highest_res_video.download(output_path = DOWNLOAD_PATH, filename = video_name)\n",
    "\n",
    "        #pause slightly to avoid raising error\n",
    "        time.sleep(0.5)\n",
    "\n",
    "    except:\n",
    "        print('Video {} at url {} unavailable...skipping'.format(video_name, row['url']))\n",
    "        num_unavailable += 1\n",
    "    \n",
    "print(f'Done Downloading videos. Unable to download {num_unavailable} videos. Downloaded videos can be found in: {DOWNLOAD_PATH}')"
   ]
  }
 ],
 "metadata": {
  "interpreter": {
   "hash": "20c83bddcb211d9b196c5e6843f777a02176794cb430c9ac35b5238b066840de"
  },
  "kernelspec": {
   "display_name": "Python 3.9.12 ('yt_api')",
   "language": "python",
   "name": "python3"
  },
  "language_info": {
   "codemirror_mode": {
    "name": "ipython",
    "version": 3
   },
   "file_extension": ".py",
   "mimetype": "text/x-python",
   "name": "python",
   "nbconvert_exporter": "python",
   "pygments_lexer": "ipython3",
   "version": "3.9.12"
  },
  "orig_nbformat": 4
 },
 "nbformat": 4,
 "nbformat_minor": 2
}
