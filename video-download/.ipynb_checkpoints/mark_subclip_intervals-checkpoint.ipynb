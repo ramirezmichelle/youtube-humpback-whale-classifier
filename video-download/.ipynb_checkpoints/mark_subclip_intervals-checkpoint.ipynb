{
 "cells": [
  {
   "cell_type": "markdown",
   "id": "87fdd462",
   "metadata": {},
   "source": [
    "# Mark Subclip Intervals\n",
    "\n",
    "This notebook is used to (manually) identify and document a 15-second interval in relevant videos where a humpback whale encounter is evident. \n",
    "\n",
    "We repeat a similar process for irrelevant videos, replacing manual interval annotation with a randomly generated 15-second interval. \n",
    "\n",
    "The 15-second intervals annotated here will serve as input for training our model. "
   ]
  },
  {
   "cell_type": "code",
   "execution_count": 20,
   "id": "a42eaa05",
   "metadata": {},
   "outputs": [],
   "source": [
    "import pandas as pd\n",
    "import numpy as np"
   ]
  },
  {
   "cell_type": "code",
   "execution_count": 21,
   "id": "ee66749b",
   "metadata": {},
   "outputs": [
    {
     "data": {
      "text/html": [
       "<div>\n",
       "<style scoped>\n",
       "    .dataframe tbody tr th:only-of-type {\n",
       "        vertical-align: middle;\n",
       "    }\n",
       "\n",
       "    .dataframe tbody tr th {\n",
       "        vertical-align: top;\n",
       "    }\n",
       "\n",
       "    .dataframe thead th {\n",
       "        text-align: right;\n",
       "    }\n",
       "</style>\n",
       "<table border=\"1\" class=\"dataframe\">\n",
       "  <thead>\n",
       "    <tr style=\"text-align: right;\">\n",
       "      <th></th>\n",
       "      <th>video_id</th>\n",
       "      <th>url</th>\n",
       "      <th>title</th>\n",
       "      <th>license</th>\n",
       "      <th>relevant</th>\n",
       "      <th>renamed_title</th>\n",
       "      <th>clip_start</th>\n",
       "      <th>clip_end</th>\n",
       "    </tr>\n",
       "  </thead>\n",
       "  <tbody>\n",
       "    <tr>\n",
       "      <th>0</th>\n",
       "      <td>67OIlq2oMt0</td>\n",
       "      <td>https://youtu.be/67OIlq2oMt0</td>\n",
       "      <td>Hawaiian Islands Humpback Whale National Marin...</td>\n",
       "      <td>creativeCommon</td>\n",
       "      <td>True</td>\n",
       "      <td>video_0000.mp4</td>\n",
       "      <td>NaN</td>\n",
       "      <td>NaN</td>\n",
       "    </tr>\n",
       "    <tr>\n",
       "      <th>1</th>\n",
       "      <td>EUcMuUBMYJc</td>\n",
       "      <td>https://youtu.be/EUcMuUBMYJc</td>\n",
       "      <td>Tagging expedition: revealing the delicate nur...</td>\n",
       "      <td>creativeCommon</td>\n",
       "      <td>True</td>\n",
       "      <td>video_0001.mp4</td>\n",
       "      <td>NaN</td>\n",
       "      <td>NaN</td>\n",
       "    </tr>\n",
       "    <tr>\n",
       "      <th>2</th>\n",
       "      <td>dpSuygz7ZmA</td>\n",
       "      <td>https://youtu.be/dpSuygz7ZmA</td>\n",
       "      <td>Your Earth Is Blue: Disentangling a Humpback W...</td>\n",
       "      <td>creativeCommon</td>\n",
       "      <td>True</td>\n",
       "      <td>video_0002.mp4</td>\n",
       "      <td>NaN</td>\n",
       "      <td>NaN</td>\n",
       "    </tr>\n",
       "    <tr>\n",
       "      <th>3</th>\n",
       "      <td>jfPzlFLEuKk</td>\n",
       "      <td>https://youtu.be/jfPzlFLEuKk</td>\n",
       "      <td>Humpback Whale || Description, Characteristics...</td>\n",
       "      <td>creativeCommon</td>\n",
       "      <td>True</td>\n",
       "      <td>video_0003.mp4</td>\n",
       "      <td>NaN</td>\n",
       "      <td>NaN</td>\n",
       "    </tr>\n",
       "    <tr>\n",
       "      <th>4</th>\n",
       "      <td>xGasapMoy4I</td>\n",
       "      <td>https://youtu.be/xGasapMoy4I</td>\n",
       "      <td>Your Earth Is Blue: Humpback Whales</td>\n",
       "      <td>creativeCommon</td>\n",
       "      <td>True</td>\n",
       "      <td>video_0004.mp4</td>\n",
       "      <td>NaN</td>\n",
       "      <td>NaN</td>\n",
       "    </tr>\n",
       "  </tbody>\n",
       "</table>\n",
       "</div>"
      ],
      "text/plain": [
       "      video_id                           url  \\\n",
       "0  67OIlq2oMt0  https://youtu.be/67OIlq2oMt0   \n",
       "1  EUcMuUBMYJc  https://youtu.be/EUcMuUBMYJc   \n",
       "2  dpSuygz7ZmA  https://youtu.be/dpSuygz7ZmA   \n",
       "3  jfPzlFLEuKk  https://youtu.be/jfPzlFLEuKk   \n",
       "4  xGasapMoy4I  https://youtu.be/xGasapMoy4I   \n",
       "\n",
       "                                               title         license  \\\n",
       "0  Hawaiian Islands Humpback Whale National Marin...  creativeCommon   \n",
       "1  Tagging expedition: revealing the delicate nur...  creativeCommon   \n",
       "2  Your Earth Is Blue: Disentangling a Humpback W...  creativeCommon   \n",
       "3  Humpback Whale || Description, Characteristics...  creativeCommon   \n",
       "4                Your Earth Is Blue: Humpback Whales  creativeCommon   \n",
       "\n",
       "   relevant   renamed_title  clip_start  clip_end  \n",
       "0      True  video_0000.mp4         NaN       NaN  \n",
       "1      True  video_0001.mp4         NaN       NaN  \n",
       "2      True  video_0002.mp4         NaN       NaN  \n",
       "3      True  video_0003.mp4         NaN       NaN  \n",
       "4      True  video_0004.mp4         NaN       NaN  "
      ]
     },
     "execution_count": 21,
     "metadata": {},
     "output_type": "execute_result"
    }
   ],
   "source": [
    "#load df of successful video downloads\n",
    "workspace_path = '/mount/data'\n",
    "downloads_df = pd.read_csv(workspace_path + '/downloaded_videos.csv')\n",
    "downloads_df.head()"
   ]
  },
  {
   "cell_type": "markdown",
   "id": "a47f06f0",
   "metadata": {},
   "source": [
    "# Add a Column to Store Clip Interval \n",
    "(only run this once)"
   ]
  },
  {
   "cell_type": "code",
   "execution_count": 33,
   "id": "8a46f032",
   "metadata": {},
   "outputs": [
    {
     "data": {
      "text/html": [
       "<div>\n",
       "<style scoped>\n",
       "    .dataframe tbody tr th:only-of-type {\n",
       "        vertical-align: middle;\n",
       "    }\n",
       "\n",
       "    .dataframe tbody tr th {\n",
       "        vertical-align: top;\n",
       "    }\n",
       "\n",
       "    .dataframe thead th {\n",
       "        text-align: right;\n",
       "    }\n",
       "</style>\n",
       "<table border=\"1\" class=\"dataframe\">\n",
       "  <thead>\n",
       "    <tr style=\"text-align: right;\">\n",
       "      <th></th>\n",
       "      <th>video_id</th>\n",
       "      <th>url</th>\n",
       "      <th>title</th>\n",
       "      <th>license</th>\n",
       "      <th>relevant</th>\n",
       "      <th>renamed_title</th>\n",
       "      <th>clip_start</th>\n",
       "      <th>clip_end</th>\n",
       "    </tr>\n",
       "  </thead>\n",
       "  <tbody>\n",
       "    <tr>\n",
       "      <th>0</th>\n",
       "      <td>67OIlq2oMt0</td>\n",
       "      <td>https://youtu.be/67OIlq2oMt0</td>\n",
       "      <td>Hawaiian Islands Humpback Whale National Marin...</td>\n",
       "      <td>creativeCommon</td>\n",
       "      <td>True</td>\n",
       "      <td>video_0000.mp4</td>\n",
       "      <td></td>\n",
       "      <td></td>\n",
       "    </tr>\n",
       "    <tr>\n",
       "      <th>1</th>\n",
       "      <td>EUcMuUBMYJc</td>\n",
       "      <td>https://youtu.be/EUcMuUBMYJc</td>\n",
       "      <td>Tagging expedition: revealing the delicate nur...</td>\n",
       "      <td>creativeCommon</td>\n",
       "      <td>True</td>\n",
       "      <td>video_0001.mp4</td>\n",
       "      <td></td>\n",
       "      <td></td>\n",
       "    </tr>\n",
       "    <tr>\n",
       "      <th>2</th>\n",
       "      <td>dpSuygz7ZmA</td>\n",
       "      <td>https://youtu.be/dpSuygz7ZmA</td>\n",
       "      <td>Your Earth Is Blue: Disentangling a Humpback W...</td>\n",
       "      <td>creativeCommon</td>\n",
       "      <td>True</td>\n",
       "      <td>video_0002.mp4</td>\n",
       "      <td></td>\n",
       "      <td></td>\n",
       "    </tr>\n",
       "    <tr>\n",
       "      <th>3</th>\n",
       "      <td>jfPzlFLEuKk</td>\n",
       "      <td>https://youtu.be/jfPzlFLEuKk</td>\n",
       "      <td>Humpback Whale || Description, Characteristics...</td>\n",
       "      <td>creativeCommon</td>\n",
       "      <td>True</td>\n",
       "      <td>video_0003.mp4</td>\n",
       "      <td></td>\n",
       "      <td></td>\n",
       "    </tr>\n",
       "    <tr>\n",
       "      <th>4</th>\n",
       "      <td>xGasapMoy4I</td>\n",
       "      <td>https://youtu.be/xGasapMoy4I</td>\n",
       "      <td>Your Earth Is Blue: Humpback Whales</td>\n",
       "      <td>creativeCommon</td>\n",
       "      <td>True</td>\n",
       "      <td>video_0004.mp4</td>\n",
       "      <td></td>\n",
       "      <td></td>\n",
       "    </tr>\n",
       "  </tbody>\n",
       "</table>\n",
       "</div>"
      ],
      "text/plain": [
       "      video_id                           url  \\\n",
       "0  67OIlq2oMt0  https://youtu.be/67OIlq2oMt0   \n",
       "1  EUcMuUBMYJc  https://youtu.be/EUcMuUBMYJc   \n",
       "2  dpSuygz7ZmA  https://youtu.be/dpSuygz7ZmA   \n",
       "3  jfPzlFLEuKk  https://youtu.be/jfPzlFLEuKk   \n",
       "4  xGasapMoy4I  https://youtu.be/xGasapMoy4I   \n",
       "\n",
       "                                               title         license  \\\n",
       "0  Hawaiian Islands Humpback Whale National Marin...  creativeCommon   \n",
       "1  Tagging expedition: revealing the delicate nur...  creativeCommon   \n",
       "2  Your Earth Is Blue: Disentangling a Humpback W...  creativeCommon   \n",
       "3  Humpback Whale || Description, Characteristics...  creativeCommon   \n",
       "4                Your Earth Is Blue: Humpback Whales  creativeCommon   \n",
       "\n",
       "   relevant   renamed_title clip_start clip_end  \n",
       "0      True  video_0000.mp4                      \n",
       "1      True  video_0001.mp4                      \n",
       "2      True  video_0002.mp4                      \n",
       "3      True  video_0003.mp4                      \n",
       "4      True  video_0004.mp4                      "
      ]
     },
     "execution_count": 33,
     "metadata": {},
     "output_type": "execute_result"
    }
   ],
   "source": [
    "# downloads_df['clip_start'] = [''for i in range(0, len(downloads_df))]\n",
    "# downloads_df['clip_end'] = ['' for i in range(0, len(downloads_df))]\n",
    "\n",
    "# downloads_df.head()"
   ]
  },
  {
   "cell_type": "markdown",
   "id": "b9b2c8f7",
   "metadata": {},
   "source": [
    "# Relevant Subclip Annotation"
   ]
  },
  {
   "cell_type": "code",
   "execution_count": 22,
   "id": "51b6e0e3",
   "metadata": {},
   "outputs": [],
   "source": [
    "#functions to double check relevance of each new potential video\n",
    "from IPython.display import YouTubeVideo, Image, display, Video, HTML\n",
    "\n",
    "def display_video(index, video_title, url):\n",
    "    # display video - need to pass in videoID (at end of url) \n",
    "    print(\"{}: {}\".format(index, video_title))\n",
    "    print(url)\n",
    "    videoID = url.split('/')[3]\n",
    "    display(YouTubeVideo(videoID))\n",
    "\n",
    "def get_occurence_intervals():\n",
    "    '''allows user to enter occurence interval start + end time'''\n",
    "\n",
    "    start = input('Clip Start Time: ')\n",
    "    end = input('Clip End Time:   ')\n",
    "\n",
    "    return start, end"
   ]
  },
  {
   "cell_type": "code",
   "execution_count": 46,
   "id": "62451132",
   "metadata": {},
   "outputs": [
    {
     "name": "stdout",
     "output_type": "stream",
     "text": [
      "How many videos do you want to annotate?: "
     ]
    },
    {
     "name": "stdin",
     "output_type": "stream",
     "text": [
      " 2\n"
     ]
    },
    {
     "name": "stdout",
     "output_type": "stream",
     "text": [
      "5: video_0006.mp4\n",
      "https://youtu.be/pvUi9HEUyD4\n"
     ]
    },
    {
     "data": {
      "image/jpeg": "[encoded data removed]",
      "text/html": [
       "\n",
       "        <iframe\n",
       "            width=\"400\"\n",
       "            height=\"300\"\n",
       "            src=\"https://www.youtube.com/embed/pvUi9HEUyD4\"\n",
       "            frameborder=\"0\"\n",
       "            allowfullscreen\n",
       "            \n",
       "        ></iframe>\n",
       "        "
      ],
      "text/plain": [
       "<IPython.lib.display.YouTubeVideo at 0x7fd064998760>"
      ]
     },
     "metadata": {},
     "output_type": "display_data"
    },
    {
     "name": "stdin",
     "output_type": "stream",
     "text": [
      "Clip Start Time:  1:05\n",
      "Clip End Time:    1:20\n"
     ]
    },
    {
     "name": "stdout",
     "output_type": "stream",
     "text": [
      "6: video_0007.mp4\n",
      "https://youtu.be/-iuAeU0Z0fs\n"
     ]
    },
    {
     "data": {
      "image/jpeg": "[encoded data removed]",
      "text/html": [
       "\n",
       "        <iframe\n",
       "            width=\"400\"\n",
       "            height=\"300\"\n",
       "            src=\"https://www.youtube.com/embed/-iuAeU0Z0fs\"\n",
       "            frameborder=\"0\"\n",
       "            allowfullscreen\n",
       "            \n",
       "        ></iframe>\n",
       "        "
      ],
      "text/plain": [
       "<IPython.lib.display.YouTubeVideo at 0x7fd07c654bb0>"
      ]
     },
     "metadata": {},
     "output_type": "display_data"
    },
    {
     "name": "stdin",
     "output_type": "stream",
     "text": [
      "Clip Start Time:  0:25\n",
      "Clip End Time:    0:40\n"
     ]
    },
    {
     "name": "stdout",
     "output_type": "stream",
     "text": [
      "Done annotating videos 5 to 7 \n",
      "\n"
     ]
    }
   ],
   "source": [
    "#loop through relevant videos and annotate whale encounter intervals\n",
    "print('How many videos do you want to annotate?:', end = \" \")\n",
    "num_videos = int(input())\n",
    "\n",
    "#pickup on the next relevant video w/o a clip interval\n",
    "start = downloads_df[(downloads_df.clip_start == '') & (downloads_df.relevant == True)].index[0]\n",
    "end = start + num_videos\n",
    "\n",
    "#annotate clip intervals and record in dataset\n",
    "for i, row in downloads_df[downloads_df.relevant == True][start:end].iterrows():\n",
    "    display_video(i, row['renamed_title'], row['url'])\n",
    "    clip_start, clip_end = get_occurence_intervals()\n",
    "    downloads_df.at[i, ('clip_start')] = clip_start\n",
    "    downloads_df.at[i, ('clip_end')] = clip_end   \n",
    "    \n",
    "print(f'Done annotating videos {start} to {end} \\n')"
   ]
  },
  {
   "cell_type": "code",
   "execution_count": 47,
   "id": "e7544e18",
   "metadata": {},
   "outputs": [
    {
     "data": {
      "text/html": [
       "<div>\n",
       "<style scoped>\n",
       "    .dataframe tbody tr th:only-of-type {\n",
       "        vertical-align: middle;\n",
       "    }\n",
       "\n",
       "    .dataframe tbody tr th {\n",
       "        vertical-align: top;\n",
       "    }\n",
       "\n",
       "    .dataframe thead th {\n",
       "        text-align: right;\n",
       "    }\n",
       "</style>\n",
       "<table border=\"1\" class=\"dataframe\">\n",
       "  <thead>\n",
       "    <tr style=\"text-align: right;\">\n",
       "      <th></th>\n",
       "      <th>video_id</th>\n",
       "      <th>url</th>\n",
       "      <th>title</th>\n",
       "      <th>license</th>\n",
       "      <th>relevant</th>\n",
       "      <th>renamed_title</th>\n",
       "      <th>clip_start</th>\n",
       "      <th>clip_end</th>\n",
       "    </tr>\n",
       "  </thead>\n",
       "  <tbody>\n",
       "    <tr>\n",
       "      <th>5</th>\n",
       "      <td>pvUi9HEUyD4</td>\n",
       "      <td>https://youtu.be/pvUi9HEUyD4</td>\n",
       "      <td>No Whales For You! - We came up empty on Humpb...</td>\n",
       "      <td>creativeCommon</td>\n",
       "      <td>True</td>\n",
       "      <td>video_0006.mp4</td>\n",
       "      <td>1:05</td>\n",
       "      <td>1:20</td>\n",
       "    </tr>\n",
       "    <tr>\n",
       "      <th>6</th>\n",
       "      <td>-iuAeU0Z0fs</td>\n",
       "      <td>https://youtu.be/-iuAeU0Z0fs</td>\n",
       "      <td>Your Earth Is Blue: Humpback Whales</td>\n",
       "      <td>creativeCommon</td>\n",
       "      <td>True</td>\n",
       "      <td>video_0007.mp4</td>\n",
       "      <td>0:25</td>\n",
       "      <td>0:40</td>\n",
       "    </tr>\n",
       "  </tbody>\n",
       "</table>\n",
       "</div>"
      ],
      "text/plain": [
       "      video_id                           url  \\\n",
       "5  pvUi9HEUyD4  https://youtu.be/pvUi9HEUyD4   \n",
       "6  -iuAeU0Z0fs  https://youtu.be/-iuAeU0Z0fs   \n",
       "\n",
       "                                               title         license  \\\n",
       "5  No Whales For You! - We came up empty on Humpb...  creativeCommon   \n",
       "6                Your Earth Is Blue: Humpback Whales  creativeCommon   \n",
       "\n",
       "   relevant   renamed_title clip_start clip_end  \n",
       "5      True  video_0006.mp4       1:05     1:20  \n",
       "6      True  video_0007.mp4       0:25     0:40  "
      ]
     },
     "execution_count": 47,
     "metadata": {},
     "output_type": "execute_result"
    }
   ],
   "source": [
    "#checking updates\n",
    "downloads_df[downloads_df.relevant == True][start:end]"
   ]
  },
  {
   "cell_type": "markdown",
   "id": "86c9c130",
   "metadata": {},
   "source": [
    "# Save Changes"
   ]
  },
  {
   "cell_type": "code",
   "execution_count": 45,
   "id": "37ac2da8",
   "metadata": {},
   "outputs": [],
   "source": [
    "# update csv with annotated intervals\n",
    "downloads_df.to_csv(workspace_path + '/downloaded_videos.csv', index=False)\n",
    "downloads_df.to_csv('/workspace/youtube-humpback-whale-classifier/data/downloaded_videos.csv', index=False)"
   ]
  }
 ],
 "metadata": {
  "kernelspec": {
   "display_name": "Python 3 (ipykernel)",
   "language": "python",
   "name": "python3"
  },
  "language_info": {
   "codemirror_mode": {
    "name": "ipython",
    "version": 3
   },
   "file_extension": ".py",
   "mimetype": "text/x-python",
   "name": "python",
   "nbconvert_exporter": "python",
   "pygments_lexer": "ipython3",
   "version": "3.8.10"
  }
 },
 "nbformat": 4,
 "nbformat_minor": 5
}
